{
 "cells": [
  {
   "cell_type": "code",
   "execution_count": 2,
   "id": "b1952baf",
   "metadata": {},
   "outputs": [
    {
     "name": "stdout",
     "output_type": "stream",
     "text": [
      "Collecting package metadata (current_repodata.json): ...working... done\n",
      "Solving environment: ...working... done\n",
      "\n",
      "# All requested packages already installed.\n",
      "\n",
      "Retrieving notices: ...working... done\n",
      "\n",
      "Note: you may need to restart the kernel to use updated packages.\n"
     ]
    }
   ],
   "source": [
    "conda install -c anaconda beautifulsoup4"
   ]
  },
  {
   "cell_type": "code",
   "execution_count": 1,
   "id": "20c92079",
   "metadata": {},
   "outputs": [
    {
     "name": "stdout",
     "output_type": "stream",
     "text": [
      "Collecting package metadata (current_repodata.json): ...working... done\n",
      "Solving environment: ...working... done\n",
      "\n",
      "# All requested packages already installed.\n",
      "\n",
      "Retrieving notices: ...working... done\n",
      "\n",
      "Note: you may need to restart the kernel to use updated packages.\n"
     ]
    }
   ],
   "source": [
    "conda install -c anaconda requests"
   ]
  },
  {
   "cell_type": "code",
   "execution_count": 11,
   "id": "de93e2f5",
   "metadata": {},
   "outputs": [],
   "source": [
    "from bs4 import BeautifulSoup\n",
    "import requests\n",
    "import csv"
   ]
  },
  {
   "cell_type": "code",
   "execution_count": 12,
   "id": "a7d7f27e",
   "metadata": {},
   "outputs": [
    {
     "name": "stdout",
     "output_type": "stream",
     "text": [
      "The world as we have created it is a process of our thinking. It cannot be changed without changing our thinking. + Albert Einstein\n",
      "It is our choices, Harry, that show what we truly are, far more than our abilities. + J.K. Rowling\n",
      "There are only two ways to live your life. One is as though nothing is a miracle. The other is as though everything is a miracle. + Albert Einstein\n",
      "The person, be it gentleman or lady, who has not pleasure in a good novel, must be intolerably stupid. + Jane Austen\n",
      "Imperfection is beauty, madness is genius and it's better to be absolutely ridiculous than absolutely boring. + Marilyn Monroe\n",
      "Try not to become a man of success. Rather become a man of value. + Albert Einstein\n",
      "It is better to be hated for what you are than to be loved for what you are not. + André Gide\n",
      "I have not failed. I've just found 10,000 ways that won't work. + Thomas A. Edison\n",
      "A woman is like a tea bag; you never know how strong it is until it's in hot water. + Eleanor Roosevelt\n",
      "A day without sunshine is like, you know, night. + Steve Martin\n"
     ]
    }
   ],
   "source": [
    "page_to_scrape = requests.get('https://quotes.toscrape.com')\n",
    "soup = BeautifulSoup(page_to_scrape.text, \"html.parser\")\n",
    "\n",
    "quotes = soup.findAll(\"span\", attrs={\"class\":\"text\"})\n",
    "authors = soup.findAll(\"small\", attrs={\"class\":\"author\"})\n",
    "\n",
    "file = open(\"scrapped_quotes.csv\", \"w\")\n",
    "writer = csv.writer(file)\n",
    "\n",
    "writer.writerow([\"Quotes\", \"Authors\"])\n",
    "\n",
    "for quote, author in zip(quotes, authors):\n",
    "    print(quote.text[1:-1] + \" + \" + author.text)\n",
    "    writer.writerow([quote.text[1:-1], author.text])\n",
    "file.close()\n"
   ]
  },
  {
   "cell_type": "code",
   "execution_count": null,
   "id": "2e22cdf5",
   "metadata": {},
   "outputs": [],
   "source": []
  }
 ],
 "metadata": {
  "kernelspec": {
   "display_name": "Python 3",
   "language": "python",
   "name": "python3"
  },
  "language_info": {
   "codemirror_mode": {
    "name": "ipython",
    "version": 3
   },
   "file_extension": ".py",
   "mimetype": "text/x-python",
   "name": "python",
   "nbconvert_exporter": "python",
   "pygments_lexer": "ipython3",
   "version": "3.8.8"
  }
 },
 "nbformat": 4,
 "nbformat_minor": 5
}
