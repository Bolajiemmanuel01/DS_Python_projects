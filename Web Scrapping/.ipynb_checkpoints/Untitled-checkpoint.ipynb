{
 "cells": [
  {
   "cell_type": "code",
   "execution_count": 1,
   "id": "71a934a7",
   "metadata": {
    "scrolled": true
   },
   "outputs": [
    {
     "name": "stdout",
     "output_type": "stream",
     "text": [
      "Collecting package metadata (current_repodata.json): ...working... done\n",
      "Solving environment: ...working... done\n",
      "\n",
      "## Package Plan ##\n",
      "\n",
      "  environment location: C:\\Users\\a\\anaconda3\n",
      "\n",
      "  added / updated specs:\n",
      "    - selenium\n",
      "\n",
      "\n",
      "The following packages will be downloaded:\n",
      "\n",
      "    package                    |            build\n",
      "    ---------------------------|-----------------\n",
      "    selenium-3.141.0           |py38h2bbff1b_1000         887 KB  anaconda\n",
      "    ------------------------------------------------------------\n",
      "                                           Total:         887 KB\n",
      "\n",
      "The following NEW packages will be INSTALLED:\n",
      "\n",
      "  selenium           anaconda/win-64::selenium-3.141.0-py38h2bbff1b_1000 None\n",
      "\n",
      "\n",
      "\n",
      "Downloading and Extracting Packages\n",
      "\n",
      "selenium-3.141.0     | 887 KB    |            |   0% \n",
      "selenium-3.141.0     | 887 KB    | 1          |   2% \n",
      "selenium-3.141.0     | 887 KB    | #4         |  14% \n",
      "selenium-3.141.0     | 887 KB    | ###2       |  32% \n",
      "selenium-3.141.0     | 887 KB    | #####2     |  52% \n",
      "selenium-3.141.0     | 887 KB    | #######3   |  74% \n",
      "selenium-3.141.0     | 887 KB    | ########## | 100% \n",
      "selenium-3.141.0     | 887 KB    | ########## | 100% \n",
      "Preparing transaction: ...working... done\n",
      "Verifying transaction: ...working... done\n",
      "Executing transaction: ...working... done\n",
      "Retrieving notices: ...working... done\n",
      "\n",
      "Note: you may need to restart the kernel to use updated packages.\n"
     ]
    }
   ],
   "source": [
    "conda install -c anaconda selenium"
   ]
  },
  {
   "cell_type": "code",
   "execution_count": 1,
   "id": "6f767a02",
   "metadata": {},
   "outputs": [
    {
     "name": "stdout",
     "output_type": "stream",
     "text": [
      "\n",
      "Note: you may need to restart the kernel to use updated packages.\n"
     ]
    }
   ],
   "source": [
    "conda install -c anaconda chromium-chromedriver"
   ]
  },
  {
   "cell_type": "code",
   "execution_count": 17,
   "id": "91bc636f",
   "metadata": {},
   "outputs": [
    {
     "name": "stdout",
     "output_type": "stream",
     "text": [
      "········\n",
      "“The world as we have created it is a process of our thinking. It cannot be changed without changing our thinking.” + Albert Einstein\n",
      "“It is our choices, Harry, that show what we truly are, far more than our abilities.” + J.K. Rowling\n",
      "“There are only two ways to live your life. One is as though nothing is a miracle. The other is as though everything is a miracle.” + Albert Einstein\n",
      "“The person, be it gentleman or lady, who has not pleasure in a good novel, must be intolerably stupid.” + Jane Austen\n",
      "“Imperfection is beauty, madness is genius and it's better to be absolutely ridiculous than absolutely boring.” + Marilyn Monroe\n",
      "“Try not to become a man of success. Rather become a man of value.” + Albert Einstein\n",
      "“It is better to be hated for what you are than to be loved for what you are not.” + André Gide\n",
      "“I have not failed. I've just found 10,000 ways that won't work.” + Thomas A. Edison\n",
      "“A woman is like a tea bag; you never know how strong it is until it's in hot water.” + Eleanor Roosevelt\n",
      "“A day without sunshine is like, you know, night.” + Steve Martin\n"
     ]
    }
   ],
   "source": [
    "import csv\n",
    "from selenium import webdriver\n",
    "from selenium.webdriver import Chrome\n",
    "from selenium.webdriver.chrome.service import Service\n",
    "from selenium.webdriver.common.by import By\n",
    "import time\n",
    "import getpass\n",
    "\n",
    "# browser_driver = Service('C:/Users/a/Downloads/chromedriver')\n",
    "# page_to_scrape = webdriver.Chrome(browser_driver)\n",
    "page_to_scrape = Chrome()\n",
    "page_to_scrape.get('https://quotes.toscrape.com')\n",
    "\n",
    "page_to_scrape.find_element(By.LINK_TEXT, \"Login\").click()\n",
    "\n",
    "time.sleep(3)\n",
    "username = page_to_scrape.find_element(By.ID, \"username\")\n",
    "password = page_to_scrape.find_element(By.ID, \"password\")\n",
    "username.send_keys('admin')\n",
    "my_pass = getpass.getpass()\n",
    "password.send_keys(my_pass)\n",
    "page_to_scrape.find_element(By.CSS_SELECTOR, \"input.btn-primary\").click()\n",
    "\n",
    "# quotes = page_to_scrape.find_element(By.CLASS_NAME, \"span.text\")\n",
    "# authors = page_to_scrape.find_element(By.CLASS_NAME, \"small.author\")\n",
    "quotes = page_to_scrape.find_elements_by_css_selector('.quote span.text')\n",
    "authors = page_to_scrape.find_elements_by_css_selector('.quote span small.author')\n",
    "\n",
    "file = open(\"scrapped_with_selenium_quotes.csv\", \"w\")\n",
    "writer = csv.writer(file)\n",
    "\n",
    "writer.writerow([\"Quotes\", \"Authors\"])\n",
    "\n",
    "for quote, author in zip(quotes, authors):\n",
    "    print(quote.text + \" + \" + author.text)\n",
    "    writer.writerow([quote.text, author.text])\n",
    "file.close()\n"
   ]
  },
  {
   "cell_type": "code",
   "execution_count": null,
   "id": "aa4ebbce",
   "metadata": {},
   "outputs": [],
   "source": []
  }
 ],
 "metadata": {
  "kernelspec": {
   "display_name": "Python 3",
   "language": "python",
   "name": "python3"
  },
  "language_info": {
   "codemirror_mode": {
    "name": "ipython",
    "version": 3
   },
   "file_extension": ".py",
   "mimetype": "text/x-python",
   "name": "python",
   "nbconvert_exporter": "python",
   "pygments_lexer": "ipython3",
   "version": "3.8.8"
  }
 },
 "nbformat": 4,
 "nbformat_minor": 5
}
