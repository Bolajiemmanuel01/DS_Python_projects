{
 "cells": [
  {
   "cell_type": "code",
   "execution_count": 10,
   "id": "73e82af5",
   "metadata": {},
   "outputs": [],
   "source": [
    "import sqlite3\n",
    "import pandas as pd\n",
    "import matplotlib.pyplot as plt\n",
    "import numpy as np"
   ]
  },
  {
   "cell_type": "code",
   "execution_count": 2,
   "id": "3ba42748",
   "metadata": {},
   "outputs": [],
   "source": [
    "conn = sqlite3.connect('chinook.db')"
   ]
  },
  {
   "cell_type": "code",
   "execution_count": 3,
   "id": "5edc46dd",
   "metadata": {},
   "outputs": [],
   "source": [
    "cursor = conn.cursor()"
   ]
  },
  {
   "cell_type": "code",
   "execution_count": 8,
   "id": "315a9698",
   "metadata": {},
   "outputs": [
    {
     "name": "stdout",
     "output_type": "stream",
     "text": [
      "['albums', 'sqlite_sequence', 'artists', 'customers', 'employees', 'genres', 'invoices', 'invoice_items', 'media_types', 'playlists', 'playlist_track', 'tracks', 'sqlite_stat1']\n"
     ]
    }
   ],
   "source": [
    "# get a list of tables in the database\n",
    "tables = []\n",
    "for row in cursor.execute(\"SELECT name FROM sqlite_master WHERE type='table'\"):\n",
    "    tables.append(row[0])\n",
    "\n",
    "# print the list of tables\n",
    "print(tables)"
   ]
  },
  {
   "cell_type": "code",
   "execution_count": 14,
   "id": "5393426a",
   "metadata": {},
   "outputs": [],
   "source": [
    "query = \"SELECT e.EmployeeId, e.FirstName, e.LastName, sales_by_rep.Total_sales_by_Sales_rep as Overall_Sales FROM (SELECT Sales_rep_ID, sum(Total_sales) as Total_sales_by_Sales_Rep FROM (SELECT CS.CustomerId, CS.Total_sales, C.SupportRepId as Sales_rep_ID FROM Customer_sales as CS INNER JOIN customers as C ON C.CustomerId = CS.CustomerId) GROUP BY Sales_rep_ID) as sales_by_rep INNER JOIN employees as e ON sales_by_rep.Sales_rep_ID = e.EmployeeId ORDER BY Total_sales_by_Sales_Rep DESC\""
   ]
  },
  {
   "cell_type": "code",
   "execution_count": 20,
   "id": "45bfcdb7",
   "metadata": {},
   "outputs": [
    {
     "data": {
      "text/html": [
       "<div>\n",
       "<style scoped>\n",
       "    .dataframe tbody tr th:only-of-type {\n",
       "        vertical-align: middle;\n",
       "    }\n",
       "\n",
       "    .dataframe tbody tr th {\n",
       "        vertical-align: top;\n",
       "    }\n",
       "\n",
       "    .dataframe thead th {\n",
       "        text-align: right;\n",
       "    }\n",
       "</style>\n",
       "<table border=\"1\" class=\"dataframe\">\n",
       "  <thead>\n",
       "    <tr style=\"text-align: right;\">\n",
       "      <th></th>\n",
       "      <th>Employee ID</th>\n",
       "      <th>First Name</th>\n",
       "      <th>Last Name</th>\n",
       "      <th>Total Sales</th>\n",
       "    </tr>\n",
       "  </thead>\n",
       "  <tbody>\n",
       "    <tr>\n",
       "      <th>0</th>\n",
       "      <td>3</td>\n",
       "      <td>Jane</td>\n",
       "      <td>Peacock</td>\n",
       "      <td>833.04</td>\n",
       "    </tr>\n",
       "    <tr>\n",
       "      <th>1</th>\n",
       "      <td>4</td>\n",
       "      <td>Margaret</td>\n",
       "      <td>Park</td>\n",
       "      <td>775.40</td>\n",
       "    </tr>\n",
       "    <tr>\n",
       "      <th>2</th>\n",
       "      <td>5</td>\n",
       "      <td>Steve</td>\n",
       "      <td>Johnson</td>\n",
       "      <td>720.16</td>\n",
       "    </tr>\n",
       "  </tbody>\n",
       "</table>\n",
       "</div>"
      ],
      "text/plain": [
       "   Employee ID First Name Last Name  Total Sales\n",
       "0            3       Jane   Peacock       833.04\n",
       "1            4   Margaret      Park       775.40\n",
       "2            5      Steve   Johnson       720.16"
      ]
     },
     "execution_count": 20,
     "metadata": {},
     "output_type": "execute_result"
    }
   ],
   "source": [
    "data = pd.DataFrame(cursor.execute(query))\n",
    "data['Employee ID'] = data[0]\n",
    "data['First Name'] = data[1]\n",
    "data['Last Name'] = data[2]\n",
    "data['Total Sales'] = data[3]\n",
    "data = data[['Employee ID', 'First Name', 'Last Name', 'Total Sales']]\n",
    "data"
   ]
  },
  {
   "cell_type": "code",
   "execution_count": 21,
   "id": "908572b1",
   "metadata": {},
   "outputs": [
    {
     "ename": "SyntaxError",
     "evalue": "invalid syntax (<ipython-input-21-01bdc7fce960>, line 1)",
     "output_type": "error",
     "traceback": [
      "\u001b[1;36m  File \u001b[1;32m\"<ipython-input-21-01bdc7fce960>\"\u001b[1;36m, line \u001b[1;32m1\u001b[0m\n\u001b[1;33m    if you dont wan to be dowloading all this packages,  you can use google colab instead of this jupyter notebook\u001b[0m\n\u001b[1;37m           ^\u001b[0m\n\u001b[1;31mSyntaxError\u001b[0m\u001b[1;31m:\u001b[0m invalid syntax\n"
     ]
    }
   ],
   "source": [
    "if you dont wan to be dowloading all this packages,  you can use google colab instead of this jupyter notebook\n",
    "\n"
   ]
  },
  {
   "cell_type": "code",
   "execution_count": null,
   "id": "676d63b6",
   "metadata": {},
   "outputs": [],
   "source": []
  }
 ],
 "metadata": {
  "kernelspec": {
   "display_name": "Python 3",
   "language": "python",
   "name": "python3"
  },
  "language_info": {
   "codemirror_mode": {
    "name": "ipython",
    "version": 3
   },
   "file_extension": ".py",
   "mimetype": "text/x-python",
   "name": "python",
   "nbconvert_exporter": "python",
   "pygments_lexer": "ipython3",
   "version": "3.8.8"
  }
 },
 "nbformat": 4,
 "nbformat_minor": 5
}
