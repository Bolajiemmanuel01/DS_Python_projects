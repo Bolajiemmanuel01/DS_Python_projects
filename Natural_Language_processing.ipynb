{
 "cells": [
  {
   "cell_type": "markdown",
   "metadata": {},
   "source": [
    "# CW2: Natural Language Processing: Classification of News Articles\n"
   ]
  },
  {
   "cell_type": "code",
   "execution_count": 1,
   "metadata": {},
   "outputs": [],
   "source": [
    "# import neccesary libraries\n",
    "import numpy as np\n",
    "import matplotlib.pyplot as plt\n",
    "import pandas as pd\n",
    "import re\n",
    "import seaborn as sns\n",
    "import nltk\n",
    "from nltk.corpus import stopwords\n",
    "from sklearn.metrics import confusion_matrix, classification_report, accuracy_score, classification_report\n",
    "from sklearn.model_selection import train_test_split\n",
    "from tensorflow.keras.layers import (\n",
    "    TextVectorization,\n",
    "    Embedding,\n",
    "    LSTM,\n",
    "    Bidirectional,\n",
    "    Dense,\n",
    "    Embedding,\n",
    ")\n",
    "import tensorflow.keras\n",
    "from tensorflow.keras.models import Sequential\n",
    "from sklearn.feature_selection import SelectKBest, f_classif\n",
    "from sklearn.feature_extraction.text import TfidfVectorizer\n",
    "from sklearn.neighbors import KNeighborsClassifier"
   ]
  },
  {
   "cell_type": "markdown",
   "metadata": {},
   "source": [
    "# 1. Data preparation\n",
    "Import dataset. "
   ]
  },
  {
   "cell_type": "code",
   "execution_count": 2,
   "metadata": {},
   "outputs": [
    {
     "data": {
      "text/html": [
       "<div>\n",
       "<style scoped>\n",
       "    .dataframe tbody tr th:only-of-type {\n",
       "        vertical-align: middle;\n",
       "    }\n",
       "\n",
       "    .dataframe tbody tr th {\n",
       "        vertical-align: top;\n",
       "    }\n",
       "\n",
       "    .dataframe thead th {\n",
       "        text-align: right;\n",
       "    }\n",
       "</style>\n",
       "<table border=\"1\" class=\"dataframe\">\n",
       "  <thead>\n",
       "    <tr style=\"text-align: right;\">\n",
       "      <th></th>\n",
       "      <th>Class Index</th>\n",
       "      <th>Title</th>\n",
       "      <th>Description</th>\n",
       "    </tr>\n",
       "  </thead>\n",
       "  <tbody>\n",
       "    <tr>\n",
       "      <th>0</th>\n",
       "      <td>3</td>\n",
       "      <td>Wall St. Bears Claw Back Into the Black (Reuters)</td>\n",
       "      <td>Reuters - Short-sellers, Wall Street's dwindli...</td>\n",
       "    </tr>\n",
       "    <tr>\n",
       "      <th>1</th>\n",
       "      <td>3</td>\n",
       "      <td>Carlyle Looks Toward Commercial Aerospace (Reu...</td>\n",
       "      <td>Reuters - Private investment firm Carlyle Grou...</td>\n",
       "    </tr>\n",
       "    <tr>\n",
       "      <th>2</th>\n",
       "      <td>3</td>\n",
       "      <td>Oil and Economy Cloud Stocks' Outlook (Reuters)</td>\n",
       "      <td>Reuters - Soaring crude prices plus worries\\ab...</td>\n",
       "    </tr>\n",
       "    <tr>\n",
       "      <th>3</th>\n",
       "      <td>3</td>\n",
       "      <td>Iraq Halts Oil Exports from Main Southern Pipe...</td>\n",
       "      <td>Reuters - Authorities have halted oil export\\f...</td>\n",
       "    </tr>\n",
       "    <tr>\n",
       "      <th>4</th>\n",
       "      <td>3</td>\n",
       "      <td>Oil prices soar to all-time record, posing new...</td>\n",
       "      <td>AFP - Tearaway world oil prices, toppling reco...</td>\n",
       "    </tr>\n",
       "  </tbody>\n",
       "</table>\n",
       "</div>"
      ],
      "text/plain": [
       "   Class Index                                              Title   \n",
       "0            3  Wall St. Bears Claw Back Into the Black (Reuters)  \\\n",
       "1            3  Carlyle Looks Toward Commercial Aerospace (Reu...   \n",
       "2            3    Oil and Economy Cloud Stocks' Outlook (Reuters)   \n",
       "3            3  Iraq Halts Oil Exports from Main Southern Pipe...   \n",
       "4            3  Oil prices soar to all-time record, posing new...   \n",
       "\n",
       "                                         Description  \n",
       "0  Reuters - Short-sellers, Wall Street's dwindli...  \n",
       "1  Reuters - Private investment firm Carlyle Grou...  \n",
       "2  Reuters - Soaring crude prices plus worries\\ab...  \n",
       "3  Reuters - Authorities have halted oil export\\f...  \n",
       "4  AFP - Tearaway world oil prices, toppling reco...  "
      ]
     },
     "execution_count": 2,
     "metadata": {},
     "output_type": "execute_result"
    }
   ],
   "source": [
    "# Importing the dataset. As done in lab 4, you usually have a look at the data. Here we simply show the first 5 rows\n",
    "train_data = pd.read_csv(\"news_dataset/train.csv\")\n",
    "test_data = pd.read_csv(\"news_dataset/test.csv\")\n",
    "train_data.head(5)"
   ]
  },
  {
   "cell_type": "code",
   "execution_count": 3,
   "metadata": {},
   "outputs": [
    {
     "name": "stdout",
     "output_type": "stream",
     "text": [
      "Reuters - Short-sellers, Wall Street's dwindling\\band of ultra-cynics, are seeing green again.\n"
     ]
    }
   ],
   "source": [
    "# Here shows what the news looks like\n",
    "print(train_data[\"Description\"][0])"
   ]
  },
  {
   "cell_type": "code",
   "execution_count": 4,
   "metadata": {},
   "outputs": [
    {
     "data": {
      "text/html": [
       "<div>\n",
       "<style scoped>\n",
       "    .dataframe tbody tr th:only-of-type {\n",
       "        vertical-align: middle;\n",
       "    }\n",
       "\n",
       "    .dataframe tbody tr th {\n",
       "        vertical-align: top;\n",
       "    }\n",
       "\n",
       "    .dataframe thead th {\n",
       "        text-align: right;\n",
       "    }\n",
       "</style>\n",
       "<table border=\"1\" class=\"dataframe\">\n",
       "  <thead>\n",
       "    <tr style=\"text-align: right;\">\n",
       "      <th></th>\n",
       "      <th>Class Index</th>\n",
       "      <th>Title</th>\n",
       "      <th>Description</th>\n",
       "    </tr>\n",
       "  </thead>\n",
       "  <tbody>\n",
       "    <tr>\n",
       "      <th>119990</th>\n",
       "      <td>1</td>\n",
       "      <td>Barack Obama Gets  #36;1.9 Million Book Deal (AP)</td>\n",
       "      <td>AP - U.S. Sen.-elect Barack Obama, whose 1995 ...</td>\n",
       "    </tr>\n",
       "    <tr>\n",
       "      <th>119991</th>\n",
       "      <td>2</td>\n",
       "      <td>Rauffer Beats Favorites to Win Downhill</td>\n",
       "      <td>VAL GARDENA, Italy (Reuters) - Max Rauffer be...</td>\n",
       "    </tr>\n",
       "    <tr>\n",
       "      <th>119992</th>\n",
       "      <td>1</td>\n",
       "      <td>Iraqis Face Winter Shivering by Candlelight</td>\n",
       "      <td>BAGHDAD (Reuters) - As if the daily struggle ...</td>\n",
       "    </tr>\n",
       "    <tr>\n",
       "      <th>119993</th>\n",
       "      <td>1</td>\n",
       "      <td>AU Says Sudan Begins Troop Withdrawal from Darfur</td>\n",
       "      <td>ABUJA (Reuters) - The African Union said on S...</td>\n",
       "    </tr>\n",
       "    <tr>\n",
       "      <th>119994</th>\n",
       "      <td>1</td>\n",
       "      <td>Syria Redeploys Some Security Forces in Lebanon</td>\n",
       "      <td>BEIRUT (Reuters) - Syria, under intense press...</td>\n",
       "    </tr>\n",
       "    <tr>\n",
       "      <th>119995</th>\n",
       "      <td>1</td>\n",
       "      <td>Pakistan's Musharraf Says Won't Quit as Army C...</td>\n",
       "      <td>KARACHI (Reuters) - Pakistani President Perve...</td>\n",
       "    </tr>\n",
       "    <tr>\n",
       "      <th>119996</th>\n",
       "      <td>2</td>\n",
       "      <td>Renteria signing a top-shelf deal</td>\n",
       "      <td>Red Sox general manager Theo Epstein acknowled...</td>\n",
       "    </tr>\n",
       "    <tr>\n",
       "      <th>119997</th>\n",
       "      <td>2</td>\n",
       "      <td>Saban not going to Dolphins yet</td>\n",
       "      <td>The Miami Dolphins will put their courtship of...</td>\n",
       "    </tr>\n",
       "    <tr>\n",
       "      <th>119998</th>\n",
       "      <td>2</td>\n",
       "      <td>Today's NFL games</td>\n",
       "      <td>PITTSBURGH at NY GIANTS Time: 1:30 p.m. Line: ...</td>\n",
       "    </tr>\n",
       "    <tr>\n",
       "      <th>119999</th>\n",
       "      <td>2</td>\n",
       "      <td>Nets get Carter from Raptors</td>\n",
       "      <td>INDIANAPOLIS -- All-Star Vince Carter was trad...</td>\n",
       "    </tr>\n",
       "  </tbody>\n",
       "</table>\n",
       "</div>"
      ],
      "text/plain": [
       "        Class Index                                              Title   \n",
       "119990            1  Barack Obama Gets  #36;1.9 Million Book Deal (AP)  \\\n",
       "119991            2            Rauffer Beats Favorites to Win Downhill   \n",
       "119992            1        Iraqis Face Winter Shivering by Candlelight   \n",
       "119993            1  AU Says Sudan Begins Troop Withdrawal from Darfur   \n",
       "119994            1    Syria Redeploys Some Security Forces in Lebanon   \n",
       "119995            1  Pakistan's Musharraf Says Won't Quit as Army C...   \n",
       "119996            2                  Renteria signing a top-shelf deal   \n",
       "119997            2                    Saban not going to Dolphins yet   \n",
       "119998            2                                  Today's NFL games   \n",
       "119999            2                       Nets get Carter from Raptors   \n",
       "\n",
       "                                              Description  \n",
       "119990  AP - U.S. Sen.-elect Barack Obama, whose 1995 ...  \n",
       "119991   VAL GARDENA, Italy (Reuters) - Max Rauffer be...  \n",
       "119992   BAGHDAD (Reuters) - As if the daily struggle ...  \n",
       "119993   ABUJA (Reuters) - The African Union said on S...  \n",
       "119994   BEIRUT (Reuters) - Syria, under intense press...  \n",
       "119995   KARACHI (Reuters) - Pakistani President Perve...  \n",
       "119996  Red Sox general manager Theo Epstein acknowled...  \n",
       "119997  The Miami Dolphins will put their courtship of...  \n",
       "119998  PITTSBURGH at NY GIANTS Time: 1:30 p.m. Line: ...  \n",
       "119999  INDIANAPOLIS -- All-Star Vince Carter was trad...  "
      ]
     },
     "execution_count": 4,
     "metadata": {},
     "output_type": "execute_result"
    }
   ],
   "source": [
    "# Show the end of the dataset\n",
    "train_data.tail(10)"
   ]
  },
  {
   "cell_type": "code",
   "execution_count": 5,
   "metadata": {},
   "outputs": [
    {
     "name": "stdout",
     "output_type": "stream",
     "text": [
      "(120000, 3)\n",
      "<class 'pandas.core.frame.DataFrame'>\n",
      "RangeIndex: 120000 entries, 0 to 119999\n",
      "Data columns (total 3 columns):\n",
      " #   Column       Non-Null Count   Dtype \n",
      "---  ------       --------------   ----- \n",
      " 0   Class Index  120000 non-null  int64 \n",
      " 1   Title        120000 non-null  object\n",
      " 2   Description  120000 non-null  object\n",
      "dtypes: int64(1), object(2)\n",
      "memory usage: 2.7+ MB\n"
     ]
    },
    {
     "data": {
      "text/html": [
       "<div>\n",
       "<style scoped>\n",
       "    .dataframe tbody tr th:only-of-type {\n",
       "        vertical-align: middle;\n",
       "    }\n",
       "\n",
       "    .dataframe tbody tr th {\n",
       "        vertical-align: top;\n",
       "    }\n",
       "\n",
       "    .dataframe thead th {\n",
       "        text-align: right;\n",
       "    }\n",
       "</style>\n",
       "<table border=\"1\" class=\"dataframe\">\n",
       "  <thead>\n",
       "    <tr style=\"text-align: right;\">\n",
       "      <th></th>\n",
       "      <th>Class Index</th>\n",
       "    </tr>\n",
       "  </thead>\n",
       "  <tbody>\n",
       "    <tr>\n",
       "      <th>count</th>\n",
       "      <td>120000.000000</td>\n",
       "    </tr>\n",
       "    <tr>\n",
       "      <th>mean</th>\n",
       "      <td>2.500000</td>\n",
       "    </tr>\n",
       "    <tr>\n",
       "      <th>std</th>\n",
       "      <td>1.118039</td>\n",
       "    </tr>\n",
       "    <tr>\n",
       "      <th>min</th>\n",
       "      <td>1.000000</td>\n",
       "    </tr>\n",
       "    <tr>\n",
       "      <th>25%</th>\n",
       "      <td>1.750000</td>\n",
       "    </tr>\n",
       "    <tr>\n",
       "      <th>50%</th>\n",
       "      <td>2.500000</td>\n",
       "    </tr>\n",
       "    <tr>\n",
       "      <th>75%</th>\n",
       "      <td>3.250000</td>\n",
       "    </tr>\n",
       "    <tr>\n",
       "      <th>max</th>\n",
       "      <td>4.000000</td>\n",
       "    </tr>\n",
       "  </tbody>\n",
       "</table>\n",
       "</div>"
      ],
      "text/plain": [
       "         Class Index\n",
       "count  120000.000000\n",
       "mean        2.500000\n",
       "std         1.118039\n",
       "min         1.000000\n",
       "25%         1.750000\n",
       "50%         2.500000\n",
       "75%         3.250000\n",
       "max         4.000000"
      ]
     },
     "execution_count": 5,
     "metadata": {},
     "output_type": "execute_result"
    }
   ],
   "source": [
    "print(train_data.shape)  # To check the number of rows and columns\n",
    "train_data.info()  # To understand data types and non-null counts\n",
    "train_data.describe()  # To get statistical information about numerical columns"
   ]
  },
  {
   "cell_type": "markdown",
   "metadata": {},
   "source": [
    "Change labels from 1-4 to 0-3"
   ]
  },
  {
   "cell_type": "code",
   "execution_count": 6,
   "metadata": {},
   "outputs": [],
   "source": [
    "# substract 1 from the target variable for both, train and test data\n",
    "train_data[\"Class Index\"] = train_data[\"Class Index\"] - 1\n",
    "test_data[\"Class Index\"] = test_data[\"Class Index\"] - 1\n",
    "label_names = [\"World\", \"Sports\", \"Business\", \"Sci/Tech\"] # 0 is \"World\", 1 is \"Sports\", ..."
   ]
  },
  {
   "cell_type": "code",
   "execution_count": 7,
   "metadata": {},
   "outputs": [
    {
     "data": {
      "text/html": [
       "<div>\n",
       "<style scoped>\n",
       "    .dataframe tbody tr th:only-of-type {\n",
       "        vertical-align: middle;\n",
       "    }\n",
       "\n",
       "    .dataframe tbody tr th {\n",
       "        vertical-align: top;\n",
       "    }\n",
       "\n",
       "    .dataframe thead th {\n",
       "        text-align: right;\n",
       "    }\n",
       "</style>\n",
       "<table border=\"1\" class=\"dataframe\">\n",
       "  <thead>\n",
       "    <tr style=\"text-align: right;\">\n",
       "      <th></th>\n",
       "      <th>Class Index</th>\n",
       "      <th>Title</th>\n",
       "      <th>Description</th>\n",
       "    </tr>\n",
       "  </thead>\n",
       "  <tbody>\n",
       "    <tr>\n",
       "      <th>0</th>\n",
       "      <td>2</td>\n",
       "      <td>Wall St. Bears Claw Back Into the Black (Reuters)</td>\n",
       "      <td>Reuters - Short-sellers, Wall Street's dwindli...</td>\n",
       "    </tr>\n",
       "    <tr>\n",
       "      <th>1</th>\n",
       "      <td>2</td>\n",
       "      <td>Carlyle Looks Toward Commercial Aerospace (Reu...</td>\n",
       "      <td>Reuters - Private investment firm Carlyle Grou...</td>\n",
       "    </tr>\n",
       "    <tr>\n",
       "      <th>2</th>\n",
       "      <td>2</td>\n",
       "      <td>Oil and Economy Cloud Stocks' Outlook (Reuters)</td>\n",
       "      <td>Reuters - Soaring crude prices plus worries\\ab...</td>\n",
       "    </tr>\n",
       "    <tr>\n",
       "      <th>3</th>\n",
       "      <td>2</td>\n",
       "      <td>Iraq Halts Oil Exports from Main Southern Pipe...</td>\n",
       "      <td>Reuters - Authorities have halted oil export\\f...</td>\n",
       "    </tr>\n",
       "    <tr>\n",
       "      <th>4</th>\n",
       "      <td>2</td>\n",
       "      <td>Oil prices soar to all-time record, posing new...</td>\n",
       "      <td>AFP - Tearaway world oil prices, toppling reco...</td>\n",
       "    </tr>\n",
       "  </tbody>\n",
       "</table>\n",
       "</div>"
      ],
      "text/plain": [
       "   Class Index                                              Title   \n",
       "0            2  Wall St. Bears Claw Back Into the Black (Reuters)  \\\n",
       "1            2  Carlyle Looks Toward Commercial Aerospace (Reu...   \n",
       "2            2    Oil and Economy Cloud Stocks' Outlook (Reuters)   \n",
       "3            2  Iraq Halts Oil Exports from Main Southern Pipe...   \n",
       "4            2  Oil prices soar to all-time record, posing new...   \n",
       "\n",
       "                                         Description  \n",
       "0  Reuters - Short-sellers, Wall Street's dwindli...  \n",
       "1  Reuters - Private investment firm Carlyle Grou...  \n",
       "2  Reuters - Soaring crude prices plus worries\\ab...  \n",
       "3  Reuters - Authorities have halted oil export\\f...  \n",
       "4  AFP - Tearaway world oil prices, toppling reco...  "
      ]
     },
     "execution_count": 7,
     "metadata": {},
     "output_type": "execute_result"
    }
   ],
   "source": [
    "# Check if t has been corrected\n",
    "train_data.head(5)"
   ]
  },
  {
   "cell_type": "markdown",
   "metadata": {},
   "source": [
    "## Preprocessing \n",
    "\n",
    "Lowercase descriptions and clean up non-letter characters.\n",
    "\n",
    "**TODO 1**: Remove the occurences of \"http\" \"href\", \"https\" and \"www\". Also, remove the names of the news agencies (Reuters, AP, ...) from the datasets."
   ]
  },
  {
   "cell_type": "code",
   "execution_count": 8,
   "metadata": {},
   "outputs": [
    {
     "data": {
      "text/html": [
       "<div>\n",
       "<style scoped>\n",
       "    .dataframe tbody tr th:only-of-type {\n",
       "        vertical-align: middle;\n",
       "    }\n",
       "\n",
       "    .dataframe tbody tr th {\n",
       "        vertical-align: top;\n",
       "    }\n",
       "\n",
       "    .dataframe thead th {\n",
       "        text-align: right;\n",
       "    }\n",
       "</style>\n",
       "<table border=\"1\" class=\"dataframe\">\n",
       "  <thead>\n",
       "    <tr style=\"text-align: right;\">\n",
       "      <th></th>\n",
       "      <th>Class Index</th>\n",
       "      <th>Title</th>\n",
       "      <th>Description</th>\n",
       "    </tr>\n",
       "  </thead>\n",
       "  <tbody>\n",
       "    <tr>\n",
       "      <th>0</th>\n",
       "      <td>2</td>\n",
       "      <td>Wall St. Bears Claw Back Into the Black (Reuters)</td>\n",
       "      <td>short sellers  wall street s dwindling band...</td>\n",
       "    </tr>\n",
       "    <tr>\n",
       "      <th>1</th>\n",
       "      <td>2</td>\n",
       "      <td>Carlyle Looks Toward Commercial Aerospace (Reu...</td>\n",
       "      <td>private investment firm carlyle group  whic...</td>\n",
       "    </tr>\n",
       "    <tr>\n",
       "      <th>2</th>\n",
       "      <td>2</td>\n",
       "      <td>Oil and Economy Cloud Stocks' Outlook (Reuters)</td>\n",
       "      <td>soaring crude prices plus worries about the...</td>\n",
       "    </tr>\n",
       "    <tr>\n",
       "      <th>3</th>\n",
       "      <td>2</td>\n",
       "      <td>Iraq Halts Oil Exports from Main Southern Pipe...</td>\n",
       "      <td>authorities have halted oil export flows fr...</td>\n",
       "    </tr>\n",
       "    <tr>\n",
       "      <th>4</th>\n",
       "      <td>2</td>\n",
       "      <td>Oil prices soar to all-time record, posing new...</td>\n",
       "      <td>tearaway world oil prices  toppling records...</td>\n",
       "    </tr>\n",
       "  </tbody>\n",
       "</table>\n",
       "</div>"
      ],
      "text/plain": [
       "   Class Index                                              Title   \n",
       "0            2  Wall St. Bears Claw Back Into the Black (Reuters)  \\\n",
       "1            2  Carlyle Looks Toward Commercial Aerospace (Reu...   \n",
       "2            2    Oil and Economy Cloud Stocks' Outlook (Reuters)   \n",
       "3            2  Iraq Halts Oil Exports from Main Southern Pipe...   \n",
       "4            2  Oil prices soar to all-time record, posing new...   \n",
       "\n",
       "                                         Description  \n",
       "0     short sellers  wall street s dwindling band...  \n",
       "1     private investment firm carlyle group  whic...  \n",
       "2     soaring crude prices plus worries about the...  \n",
       "3     authorities have halted oil export flows fr...  \n",
       "4     tearaway world oil prices  toppling records...  "
      ]
     },
     "execution_count": 8,
     "metadata": {},
     "output_type": "execute_result"
    }
   ],
   "source": [
    "# Function to preprocess the data\n",
    "def preprocess_text(string):\n",
    "    # Remove http, https, href, and www\n",
    "    string = re.sub(r\"\\b(?:http|https|href|www)\\S*\\b\", \"\", string)\n",
    "\n",
    "    # Remove news agencies names\n",
    "    news_agencies = [\"Reuters\", \"AFP\", \"AP\"]  # nList of news agencies\n",
    "    for agency in news_agencies:\n",
    "        string = re.sub(r'\\b' + agency + r'\\b', '', string, flags=re.IGNORECASE)\n",
    "\n",
    "    string = string.lower()\n",
    "    string = string.replace(\"'\", \" \")\n",
    "    string = string.replace(\"\\\\\", \" \")\n",
    "    string = re.sub(r\"[^a-zA-Z]\", \" \", string)\n",
    "    return string\n",
    "\n",
    "# Apply the preprocessing function to the 'Description' column in both train and test datasets\n",
    "train_data[\"Description\"] = train_data[\"Description\"].apply(preprocess_text)\n",
    "test_data[\"Description\"] = test_data[\"Description\"].apply(preprocess_text)\n",
    "\n",
    "\n",
    "train_data.head(5)"
   ]
  },
  {
   "cell_type": "markdown",
   "metadata": {},
   "source": [
    "Convert dataframes to lists (needed for further functions)."
   ]
  },
  {
   "cell_type": "code",
   "execution_count": 9,
   "metadata": {},
   "outputs": [],
   "source": [
    "# Convert dataframes to list\n",
    "train_data_list = train_data[\"Description\"].tolist()\n",
    "test_data_list = test_data[\"Description\"].tolist()\n",
    "train_labels_list = train_data[\"Class Index\"].tolist()\n",
    "test_labels_list = test_data[\"Class Index\"].tolist()"
   ]
  },
  {
   "cell_type": "markdown",
   "metadata": {},
   "source": [
    "Create validation set (taking out 20% of test set)"
   ]
  },
  {
   "cell_type": "code",
   "execution_count": 10,
   "metadata": {},
   "outputs": [],
   "source": [
    "(train_data_list, validation_data_list,\n",
    " train_labels_list, validation_labels_list) = train_test_split(train_data_list, train_labels_list, test_size=0.2, stratify=train_labels_list)"
   ]
  },
  {
   "cell_type": "markdown",
   "metadata": {},
   "source": [
    "### Removing Stop Words\n",
    "Remove stopwords from the *stopword* corpus."
   ]
  },
  {
   "cell_type": "code",
   "execution_count": 11,
   "metadata": {},
   "outputs": [
    {
     "name": "stderr",
     "output_type": "stream",
     "text": [
      "[nltk_data] Downloading package stopwords to\n",
      "[nltk_data]     C:\\Users\\a\\AppData\\Roaming\\nltk_data...\n",
      "[nltk_data]   Package stopwords is already up-to-date!\n"
     ]
    }
   ],
   "source": [
    "# Download the stopwords\n",
    "nltk.download(\"stopwords\")\n",
    "\n",
    "# Create the function to remove stopwords\n",
    "def remove_stopwords(data_list):\n",
    "    stopword_list = stopwords.words(\"english\")\n",
    "    for i in range(len(data_list)):\n",
    "        data_list[i] = \" \".join(\n",
    "            [word for word in data_list[i].split() if word not in (stopword_list)]\n",
    "        )\n",
    "    return data_list"
   ]
  },
  {
   "cell_type": "code",
   "execution_count": 12,
   "metadata": {},
   "outputs": [],
   "source": [
    "train_data_list = remove_stopwords(train_data_list)\n",
    "validation_data_list = remove_stopwords(validation_data_list)\n",
    "test_data_list = remove_stopwords(test_data_list)"
   ]
  },
  {
   "cell_type": "markdown",
   "metadata": {},
   "source": [
    "### TODO 2: STEMMING\n",
    "Use **Stemming** or **Lemmatization** to grammatical word variations."
   ]
  },
  {
   "cell_type": "code",
   "execution_count": 13,
   "metadata": {},
   "outputs": [
    {
     "name": "stderr",
     "output_type": "stream",
     "text": [
      "[nltk_data] Downloading package wordnet to\n",
      "[nltk_data]     C:\\Users\\a\\AppData\\Roaming\\nltk_data...\n",
      "[nltk_data]   Package wordnet is already up-to-date!\n"
     ]
    }
   ],
   "source": [
    "from nltk.stem import PorterStemmer, WordNetLemmatizer\n",
    "from nltk.corpus import wordnet\n",
    "import nltk\n",
    "nltk.download('wordnet')\n",
    "from sklearn.feature_extraction.text import TfidfVectorizer\n",
    "from sklearn.metrics import accuracy_score\n",
    "# Initialize stemmer\n",
    "stemmer = PorterStemmer()\n",
    "\n",
    "# Function for stemming\n",
    "def perform_stemming(text):\n",
    "    stemmed_text = \" \".join([stemmer.stem(word) for word in text.split()])\n",
    "    return stemmed_text\n",
    "\n",
    "# Apply stemming to the data\n",
    "stemmed_train_data_list = [perform_stemming(text) for text in train_data_list]\n",
    "stemmed_validation_data_list = [perform_stemming(text) for text in validation_data_list]\n",
    "stemmed_test_data_list = [perform_stemming(text) for text in test_data_list]"
   ]
  },
  {
   "cell_type": "markdown",
   "metadata": {},
   "source": [
    "## 2. Recurrent Neural Network classifier with Keras and Tensorflow"
   ]
  },
  {
   "cell_type": "markdown",
   "metadata": {},
   "source": [
    "One-hot encode the labels (0 -> 0001, 1 -> 0010, ...) to match NN classifier head output."
   ]
  },
  {
   "cell_type": "code",
   "execution_count": 14,
   "metadata": {},
   "outputs": [
    {
     "name": "stdout",
     "output_type": "stream",
     "text": [
      "(96000, 4)\n"
     ]
    }
   ],
   "source": [
    "# the labels are of value 0, 1, 2, 3. We need to convert them to one-hot encoded vectors \n",
    "train_labels = tensorflow.keras.utils.to_categorical(np.array(train_labels_list), num_classes=4)\n",
    "validation_labels = tensorflow.keras.utils.to_categorical(np.array(validation_labels_list), num_classes=4)\n",
    "test_labels = tensorflow.keras.utils.to_categorical(np.array(test_labels_list), num_classes=4)\n",
    "print(train_labels.shape)"
   ]
  },
  {
   "cell_type": "markdown",
   "metadata": {},
   "source": [
    "First we use the TextVectorization layer to convert the text to a sequence of integers. You can read about how this works  [here](https://www.tensorflow.org/api_docs/python/tf/keras/layers/TextVectorization).\n"
   ]
  },
  {
   "cell_type": "code",
   "execution_count": 15,
   "metadata": {},
   "outputs": [
    {
     "name": "stdout",
     "output_type": "stream",
     "text": [
      "['', '[UNK]', 'said', 'new', 'year', 'quot', 'compani', 'two', 'us', 'first', 'lt', 'gt', 'world', 'one', 'monday', 'wednesday', 'tuesday', 'thursday', 'inc', 'friday', 'game', 'week', 'report', 'state', 'u', 'last', 'yesterday', 'york', 'say', 'time', 'presid', 'unit', 'million', 'three', 'nation', 'day', 'price', 'corp', 'stock', 'oil', 'govern', 'plan', 'sunday', 'offici', 'secur', 'would', 'month', 'group', 'servic', 'today', 'peopl', 'announc', 'second', 'open', 'team', 'market', 'could', 'win', 'end', 'season', 'iraq', 'saturday', 'kill', 'percent', 'softwar', 'night', 'next', 'back', 'third', 'use', 'expect', 'busi', 'minist', 'quarter', 'microsoft', 'comput', 'make', 'countri', 'share', 'lead', 'high', 'intern', 'run', 'record', 'internet', 'take', 'network', 'four', 'billion', 'technolog', 'final', 'american', 'help', 'system', 'washington', 'top', 'may', 'elect', 'sale', 'research', 'citi', 'news', 'former', 'leader', 'home', 'releas', 'victori', 'target', 'start', 'feder', 'call', 'manag', 'offer', 'n', 'bank', 'player', 'oper', 'forc', 'attack', 'product', 'giant', 'european', 'gener', 'trade', 'like', 'major', 'set', 'leagu', 'maker', 'move', 'profit', 'get', 'largest', 'industri', 'play', 'show', 'accord', 'base', 'san', 'co', 'five', 'prime', 'point', 'chief', 'execut', 'court', 'bush', 'deal', 'china', 'includ', 'made', 'develop', 'search', 'hit', 'least', 'sport', 'coach', 'face', 'launch', 'agre', 'onlin', 'london', 'long', 'work', 'phone', 'talk', 'olymp', 'seri', 'go', 'british', 'power', 'cup', 'way', 'charg', 'test', 'champion', 'iraqi', 'cut', 'com', 'head', 'sinc', 'polic', 'href', 'old', 'anoth', 'close', 'space', 'south', 'dollar', 'palestinian', 'look', 'offic', 'job', 'john', 'union', 'continu', 'music', 'sign', 'red', 'file', 'web', 'p', 'left', 'hope', 'post', 'come', 'part', 'meet', 'even', 'right', 'provid', 'cost', 'earn', 'mobil', 'increas', 'baghdad', 'rate', 'claim', 'tri', 'rule', 'firm', 'quickinfo', 'fullquot', 'war', 'earli', 'six', 'bid', 'india', 'warn', 'score', 'north', 'militari', 'loss', 'rival', 'bomb', 'al', 'consum', 'drug', 'return', 'mani', 'round', 'follow', 'hold', 'buy', 'demand', 'support', 'give', 'biggest', 'store', 'rose', 'ago', 'man', 'japan', 'still', 'beat', 'strong', 'investor', 'sourc', 'reach', 'line', 'user', 'half', 'retail', 'big', 'program', 'number', 'th', 'googl', 'recent', 'street', 'championship', 'growth', 'latest', 'much', 'higher', 'region', 'wireless', 'australia', 'race', 'agenc', 'sell', 'want', 'held', 'data', 'associ', 'car', 'nuclear', 'air', 'public', 'airlin', 'put', 'isra', 'vote', 'athen', 'rais', 'commun', 'result', 'foreign', 'fire', 'england', 'boston', 'rise', 'found', 'chang', 'custom', 'footbal', 'site', 'pay', 'place', 'turn', 'west', 'remain', 'econom', 'near', 'global', 'allow', 'window', 'name', 'fourth', 'sever', 'issu', 'milit', 'hous', 'financi', 'engin', 'seven', 'effort', 'becom', 'version', 'despit', 'nearli', 'presidenti', 'need', 'fell', 'gold', 'futur', 'free', 'parti', 'fight', 'economi', 'angel', 'ahead', 'ibm', 'press', 'contract', 'took', 'russian', 'past', 'chip', 'amp', 'univers', 'key', 'troop', 'worker', 'francisco', 'also', 'around', 'investig', 'mark', 'america', 'star', 'low', 'defens', 'match', 'hurrican', 'appl', 'gain', 'commiss', 'late', 'lower', 'fund', 'sox', 'wall', 'chicago', 'scientist', 'titl', 'campaign', 'good', 'tokyo', 'video', 'polit', 'keep', 'concern', 'well', 'pc', 'capit', 'europ', 'interest', 'profil', 'order', 'begin', 'septemb', 'possibl', 'australian', 'school', 'member', 'led', 'agreement', 'per', 'miss', 'men', 'octob', 'receiv', 'control', 'rebel', 'hand', 'gaza', 'step', 'field', 'author', 'drop', 'ad', 'st', 'media', 'e', 'accus', 'pass', 'appear', 'design', 'best', 'digit', 'term', 'center', 'depart', 'russia', 'bill', 'build', 'decis', 'fall', 'franc', 'shot', 'corpor', 'devic', 'french', 'aim', 'b', 'confer', 'person', 'hour', 'might', 'battl', 'find', 'server', 'electron', 'oracl', 'eight', 'peac', 'un', 'yard', 'case', 'whether', 'propos', 'death', 'approv', 'invest', 'florida', 'crude', 'produc', 'energi', 'ask', 'northern', 'lo', 'televis', 'reserv', 'hostag', 'japanes', 'inform', 'novemb', 'fan', 'canadian', 'suppli', 'southern', 'rank', 'improv', 'grow', 'creat', 'net', 'life', 'michael', 'club', 'perform', 'board', 'without', 'boost', 'leav', 'yanke', 'britain', 'posit', 'fail', 'told', 'sun', 'due', 'littl', 'see', 'pakistan', 'alleg', 'soldier', 'die', 'away', 'drive', 'mail', 'intel', 'central', 'california', 'secretari', 'terror', 'administr', 'stop', 'morn', 'visit', 'injur', 'account', 'level', 'straight', 'weekend', 'tax', 'challeng', 'applic', 'armi', 'nasa', 'iran', 'goal', 'quarterli', 'lost', 'peoplesoft', 'across', 'analyst', 'action', 'protect', 'medal', 'problem', 'chairman', 'women', 'question', 'live', 'forecast', 'exchang', 'prepar', 'houston', 'food', 'success', 'judg', 'democrat', 'regul', 'push', 'organ', 'israel', 'side', 'linux', 'uk', 'complet', 'ralli', 'insur', 'competit', 'believ', 'arrest', 'strike', 'oct', 'health', 'arm', 'caus', 'area', 'law', 'decid', 'join', 'inning', 'thousand', 'almost', 'critic', 'money', 'studi', 'barrel', 'trial', 'touchdown', 'korea', 'histori', 'attempt', 'doubl', 'small', 'senior', 'aid', 'revenu', 'list', 'human', 'david', 'better', 'basebal', 'kerri', 'size', 'advanc', 'among', 'spend', 'wound', 'font', 'grand', 'threaten', 'defeat', 'emerg', 'stadium', 'earlier', 'ltd', 'bring', 'larg', 'ever', 'divis', 'suspect', 'euro', 'send', 'nov', 'began', 'minut', 'william', 'manufactur', 'east', 'fear', 'behind', 'seek', 'nine', 'toronto', 'fuel', 'texa', 'less', 'cent', 'consid', 'flight', 'anti', 'explos', 'access', 'real', 'popular', 'lawsuit', 'full', 'cash', 'speed', 'got', 'defend', 'break', 'august', 'darfur', 'came', 'toward', 'arafat', 'station', 'initi', 'germani', 'amid', 'link', 'bankruptci', 'privat', 'western', 'indian', 'unveil', 'yet', 'local', 'threat', 'relat', 'clear', 'alreadi', 'afghanistan', 'sept', 'quarterback', 'negoti', 'main', 'current', 'tie', 'carri', 'prison', 'pari', 'featur', 'cell', 'financ', 'declin', 'canada', 'publish', 'extend', 'lose', 'decad', 'career', 'famili', 'weapon', 'stand', 'confirm', 'offens', 'german', 'employe', 'acquir', 'project', 'white', 'import', 'opposit', 'island', 'desktop', 'arsen', 'sudan', 'process', 'chines', 'struggl', 'card', 'pull', 'watch', 'messag', 'hard', 'ban', 'radio', 'insurg', 'bodi', 'injuri', 'far', 'chanc', 'activ', 'georg', 'event', 'violenc', 'storm', 'replac', 'soon', 'director', 'promis', 'gave', 'takeov', 'within', 'muslim', 'african', 'outsid', 'jone', 'tour', 'expand', 'delay', 'appeal', 'jump', 'short', 'save', 'polici', 'ga', 'legal', 'train', 'paul', 'avail', 'stake', 'tech', 'bowl', 'travel', 'standard', 'involv', 'enough', 'met', 'terrorist', 'heart', 'arriv', 'slow', 'finish', 'known', 'let', 'know', 'pressur', 'dead', 'taken', 'other', 'miami', 'yasser', 'hundr', 'urg', 'soni', 'guard', 'green', 'hospit', 'great', 'strip', 'council', 'seattl', 'annual', 'export', 'wide', 'thing', 'manchest', 'bay', 'seem', 'coast', 'beij', 'park', 'worri', 'motor', 'suggest', 'retir', 'figur', 'effect', 'tv', 'host', 'potenti', 'movi', 'holiday', 'africa', 'think', 'moscow', 'schedul', 'must', 'introduc', 'track', 'yahoo', 'reduc', 'enter', 'water', 'practic', 'risk', 'suffer', 'survey', 'stage', 'singl', 'qualifi', 'updat', 'troubl', 'equip', 'enterpris', 'domin', 'went', 'reject', 'cp', 'rang', 'protest', 'toni', 'candid', 'expert', 'blue', 'settl', 'express', 'spain', 'download', 'crash', 'heat', 'rocket', 'town', 'madrid', 'colleg', 'lift', 'labor', 'children', 'owner', 'ipod', 'medic', 'islam', 'damag', 'shop', 'respons', 'atlanta', 'never', 'form', 'italian', 'carrier', 'cite', 'tool', 'surg', 'sent', 'reveal', 'disput', 'processor', 'everi', 'imag', 'pitch', 'nfl', 'cb', 'basketbal', 'color', 'illeg', 'estim', 'jet', 'brown', 'calif', 'loui', 'eu', 'tournament', 'pick', 'resign', 'newspap', 'suspend', 'poll', 'detroit', 'readi', 'ground', 'ceo', 'special', 'ship', 'captain', 'averag', 'tiger', 'machin', 'surpris', 'award', 'land', 'controversi', 'philadelphia', 'fifth', 'eas', 'advertis', 'decemb', 'connect', 'satellit', 'discuss', 'winter', 'sold', 'benefit', 'repres', 'republican', 'partner', 'black', 'stay', 'withdraw', 'nasdaq', 'confid', 'differ', 'deliv', 'worth', 'kidnap', 'plant', 'edg', 'celebr', 'aug', 'suicid', 'book', 'staff', 'sharehold', 'w', 'crisi', 'spokesman', 'plane', 'homer', 'memori', 'later', 'forward', 'block', 'playoff', 'fresh', 'earth', 'cricket', 'camp', 'seen', 'young', 'mike', 'avoid', 'airway', 'accept', 'summer', 'direct', 'though', 'seed', 'mission', 'steve', 'given', 'commerci', 'spam', 'care', 'outlook', 'model', 'asian', 'statement', 'dvd', 'road', 'explor', 'browser', 'winner', 'c', 'purchas', 'light', 'asia', 'singapor', 'total', 'debt', 'check', 'draw', 'spot', 'g', 'brand', 'wait', 'focu', 'senat', 'ivan', 'entertain', 'border', 'abl', 'dozen', 'blair', 'whose', 'afghan', 'middl', 'evid', 'wit', 'crowd', 'attorney', 'fraud', 'word', 'blast', 'airport', 'acquisit', 'thought', 'athlet', 'predict', 'valu', 'soccer', 'serv', 'closer', 'agent', 'safeti', 'pilot', 'electr', 'debat', 'vehicl', 'ireland', 'sharon', 'roll', 'content', 'becam', 'pro', 'minnesota', 'measur', 'januari', 'moon', 'hear', 'dow', 'review', 'juli', 'condit', 'committe', 'along', 'rebound', 'pound', 'limit', 'assist', 'appar', 'greec', 'prize', 'credit', 'voter', 'marin', 'huge', 'storag', 'chain', 'age', 'rain', 'ms', 'interim', 'film', 'congress', 'cours', 'view', 'option', 'settlement', 'mean', 'bond', 'x', 'johnson', 'hotel', 'deficit', 'although', 'suit', 'scandal', 'reason', 'pack', 'eye', 'davi', 'mile', 'fine', 'declar', 'cleric', 'role', 'mw', 'jail', 'golf', 'dell', 'ten', 'rest', 'najaf', 'clash', 'xp', 'lawyer', 'singh', 'pictur', 'zealand', 'woman', 'itali', 'independ', 'highest', 'dutch', 'quit', 'nyse', 'justic', 'hole', 'driver', 'consecut', 'arab', 'ryder', 'jose', 'broadcast', 'disappoint', 'merger', 'eastern', 'tonight', 'mortgag', 'hostil', 'heavi', 'front', 'code', 'nba', 'formula', 'de', 'built', 'brought', 'act', 'virginia', 'scienc', 'rock', 'ministri', 'roger', 'march', 'kept', 'aircraft', 'sector', 'upgrad', 'striker', 'discov', 'ariel', 'verdana', 'serif', 'immedi', 'helvetica', 'detail', 'await', 'arial', 'slightli', 'master', 'mass', 'fix', 'premier', 'dec', 'sharpli', 'captur', 'resid', 'admit', 'platform', 'mine', 'hill', 'saw', 'prevent', 'instead', 'debut', 'suprem', 'photo', 'patent', 'intellig', 'conflict', 'commit', 'promot', 'indic', 'document', 'afternoon', 'tell', 'passeng', 'korean', 'bad', 'wood', 'vice', 'spanish', 'period', 'parliament', 'parent', 'weak', 'inflat', 'diplomat', 'deni', 'asset', 'vendor', 'row', 'oakland', 'fallujah', 'box', 'abus', 'rush', 'pace', 'missil', 'cardin', 'student', 'screen', 'violat', 'streak', 'fli', 'fast', 'stori', 'display', 'previou', 'integr', 'centuri', 'approach', 'victim', 'sprint', 'session', 'probe', 'carolina', 'write', 'refus', 'probabl', 'prix', 'la', 'howard', 'classic', 'walk', 'panel', 'explod', 'dalla', 'ball', 'yuko', 'incom', 'longer', 'cisco', 'resum', 'recal', 'soar', 'signal', 'insist', 'packag', 'kick', 'kabul', 'telephon', 'kong', 'format', 'delta', 'boe', 'worldwid', 'massiv', 'interview', 'insid', 'civil', 'wind', 'tom', 'struck', 'spacecraft', 'sentenc', 'pittsburgh', 'delhi', 'camera', 'viru', 'pitcher', 'joint', 'danger', 'compet', 'chelsea', 'murder', 'king', 'hong', 'employ', 'cleveland', 'weather', 'prosecutor', 'peer', 'distribut', 'threw', 'ran', 'natur', 'tenni', 'poor', 'f', 'doctor', 'crime', 'togeth', 'rout', 'wave', 'sydney', 'cross', 'brazil', 'tim', 'room', 'provinc', 'hurt', 'blow', 'thank', 'requir', 'prove', 'abu', 'reform', 'jerusalem', 'disney', 'command', 'broadband', 'royal', 'ray', 'kansa', 'index', 'astro', 'spent', 'semiconductor', 'mexico', 'hire', 'combin', 'cabl', 'remov', 'own', 'jason', 'feel', 'deploy', 'count', 'climb', 'assault', 'bear', 'anticip', 'add', 'request', 'pension', 'hollywood', 'doubt', 'crimin', 'song', 'read', 'hockey', 'ventur', 'institut', 'eagl', 'capabl', 'broke', 'studio', 'someth', 'planet', 'learn', 'cover', 'stroke', 'strategi', 'plc', 'jame', 'tehran', 'embassi', 'christma', 'auction', 'vladimir', 'determin', 'currenc', 'bit', 'treasuri', 'solut', 'mid', 'boss', 'auto', 'taiwan', 'blame', 'sharp', 'patriot', 'mar', 'flood', 'bn', 'yen', 'shoot', 'gather', 'domest', 'worst', 'trophi', 'separ', 'tradit', 'trader', 'mart', 'collect', 'wal', 'sanction', 'recov', 'meter', 'warm', 'halt', 'date', 'slip', 'richard', 'profession', 'indonesia', 'experi', 'earthquak', 'common', 'uranium', 'nokia', 'el', 'diseas', 'convent', 'michigan', 'licens', 'titan', 'qaeda', 'colin', 'cap', 'washingtonpost', 'specul', 'seriou', 'origin', 'microsystem', 'knee', 'impact', 'guilti', 'comment', 'bird', 'atom', 'amd', 'oppon', 'ohio', 'j', 'civilian', 'voic', 'turkey', 'recoveri', 'plead', 'pakistani', 'zone', 'paid', 'telecommun', 'signific', 'nextel', 'ford', 'daili', 'matter', 'mac', 'baltimor', 'addit', 'shock', 'mount', 'lot', 'edit', 'arizona', 'rich', 'resolv', 'putin', 'monitor', 'fiscal', 'budget', 'legisl', 'class', 'veteran', 'tomorrow', 'sure', 'pledg', 'page', 'warner', 'trip', 'surgeri', 'properti', 'histor', 'pm', 'foot', 'vow', 'rel', 'progress', 'district', 'attend', 'wild', 'philippin', 'june', 'enrich', 'copi', 'pacif', 'happen', 'easi', 'sadr', 'republ', 'refuge', 'plu', 'address', 'stewart', 'patient', 'colorado', 'telecom', 'sweep', 'raid', 'deadli', 'conduct', 'chart', 'kashmir', 'diego', 'core', 'twice', 'renew', 'packard', 'montreal', 'stem', 'robert', 'hewlett', 'throw', 'fla', 'thailand', 'prompt', 'opportun', 'noth', 'instal', 'formal', 'cooper', 'anim', 'allianc', 'alli', 'watchdog', 'seiz', 'prioriti', 'martin', 'itun', 'draft', 'sea', 'disrupt', 'counti', 'convict', 'virtual', 'surviv', 'enabl', 'collaps', 'websit', 'tough', 'sixth', 'rooki', 'prospect', 'previous', 'fill', 'demonstr', 'pair', 'nigeria', 'mix', 'l', 'karzai', 'treatment', 'su', 'relief', 'dismiss', 'defenc', 'broker', 'welcom', 'speci', 'realli', 'par', 'alan', 'vulner', 'payment', 'msn', 'hamid', 'familiar', 'done', 'spark', 'secret', 'materi', 'jakarta', 'grew', 'andi', 'shift', 'seventh', 'r', 'novel', 'dolphin', 'rare', 'magazin', 'handheld', 'grant', 'english', 'client', 'commission', 'present', 'portabl', 'nhl', 'founder', 'describ', 'alex', 'sound', 'shiit', 'saddam', 'expo', 'expens', 'commerc', 'boy', 'bar', 'anaheim', 'twin', 'resolut', 'non', 'hot', 'flat', 'egypt', 'deadlin', 'crew', 'sen', 'friend', 'appoint', 'adopt', 'toll', 'strength', 'seat', 'saudi', 'journalist', 'utah', 'irish', 'cancer', 'brother', 'factori', 'upset', 'quickli', 'ninth', 'mutual', 'impos', 'astronaut', 'affect', 'worm', 'tackl', 'liverpool', 'copyright', 'truck', 'super', 'sudanes', 'shut', 'moment', 'climat', 'brussel', 'transport', 'son', 'often', 'expans', 'entir', 'ballot', 'powel', 'patch', 'jeff', 'focus', 'eighth', 'competitor', 'answer', 'output', 'orbit', 'love', 'idea', 'channel', 'wake', 'spread', 'slam', 'restructur', 'chri', 'beach', 'handset', 'firefox', 'dramat', 'denver', 'compar', 'carlo', 'upcom', 'rather', 'indianapoli', 'hunt', 'gulf', 'barri', 'ag', 'mind', 'knock', 'hussein', 'flaw', 'fastest', 'contain', 'coalit', 'catch', 'traffic', 'resourc', 'plot', 'inventori', 'indonesian', 'crucial', 'clinch', 'wire', 'speech', 'reportedli', 'journal', 'greek', 'flu', 'choic', 'certain', 'blood', 'begun', 'wi', 'chase', 'bought', 'allegedli', 'ticker', 'sought', 'ring', 'regular', 'fighter', 'cub', 'vioxx', 'princ', 'partnership', 'kevin', 'identifi', 'atlant', 'unlik', 'ranger', 'minor', 'individu', 'georgia', 'establish', 'tennesse', 'tampa', 'pre', 'enron', 'disast', 'charl', 'remot', 'radic', 'nintendo', 'alway', 'ukrain', 'specif', 'maintain', 'cincinnati', 'wale', 'via', 'semifin', 'select', 'os', 'info', 'dream', 'definit', 'strengthen', 'sir', 'scale', 'mozilla', 'loan', 'islamabad', 'faster', 'craig', 'cancel', 'nascar', 'motion', 'lack', 'hama', 'forest', 'exist', 'devast', 'deputi', 'democraci', 'summit', 'strain', 'shuttl', 'militia', 'ill', 'hardwar', 'ebay', 'donald', 'advantag', 'technic', 'newsfactor', 'nationwid', 'capac', 'brave', 'touch', 'helicopt', 'governor', 'facil', 'supercomput', 'stun', 'micro', 'merck', 'flash', 'bell', 'attent', 'territori', 'safe', 'mountain', 'intend', 'extra', 'dame', 'cool', 'tight', 'subscrib', 'programm', 'opec', 'hat', 'wrong', 'teammat', 'sky', 'notr', 'newli', 'elimin', 'educ', 'dodger', 'centr', 'cabinet', 'similar', 'lawmak', 'indiana', 'inch', 'hp', 'girl', 'antitrust', 'writer', 'joe', 'driven', 'deep', 'switch', 'smaller', 'pt', 'ivori', 'celtic', 'villag', 'stronger', 'steel', 'smith', 'premiership', 'musharraf', 'grab', 'tini', 'preliminari', 'pharmaceut', 'overnight', 'ottawa', 'instant', 'br', 'berlin', 'amount', 'van', 'oklahoma', 'mp', 'jacqu', 'increasingli', 'databas', 'spywar', 'overal', 'nl', 'java', 'gone', 'fact', 'environ', 'conserv', 'broken', 'wife', 'style', 'situat', 'organis', 'desert', 'gunmen', 'failur', 'extens', 'weigh', 'treat', 'squar', 'seoul', 'popul', 'leg', 'hall', 'gear', 'era', 'dope', 'wonder', 'unless', 'observ', 'milan', 'jersey', 'cast', 'wayn', 'port', 'mr', 'haiti', 'fit', 'falluja', 'coupl', 'bomber', 'abandon', 'unbeaten', 'speak', 'oust', 'kind', 'drove', 'brian', 'sym', 'spur', 'solid', 'slide', 'qtype', 'qcat', 'infotyp', 'holi', 'burn', 'airbu', 'wicket', 'soft', 'sex', 'semi', 'note', 'gate', 'frank', 'enhanc', 'smart', 'pedro', 'gari', 'egyptian', 'martinez', 'environment', 'cnn', 'abil', 'surfac', 'river', 'lay', 'greater', 'franchis', 'favor', 'crack', 'contest', 'ticket', 'teenag', 'scotland', 'piraci', 'peter', 'perhap', 'perfect', 'overtim', 'difficult', 'construct', 'bryant', 'allawi', 'walt', 'virgin', 'vienna', 'slash', 'pervez', 'larri', 'jay', 'invit', 'discount', 'annan', 'nikkei', 'infring', 'handl', 'everyth', 'email', 'drink', 'achiev', 'violent', 'surround', 'ron', 'penalti', 'pain', 'newcastl', 'mysteri', 'fi', 'redskin', 'pga', 'lake', 'jr', 'goe', 'destroy', 'spring', 'restor', 'letter', 'either', 'contribut', 'behead', 'verizon', 'self', 'rescu', 'recommend', 'marathon', 'graphic', 'trust', 'scientif', 'saturn', 'ongo', 'offset', 'massachusett', 'jan', 'gun', 'fee', 'ceremoni', 'task', 'social', 'protocol', 'paper', 'lion', 'kofi', 'bin', 'beta', 'attract', 'theft', 'lock', 'languag', 'juri', 'ident', 'freed', 'cold', 'bu', 'bigley', 'april', 'thoma', 'swap', 'shi', 'shell', 'separatist', 'scott', 'rover', 'leadership', 'corrupt', 'combat', 'columbia', 'taliban', 'particip', 'lie', 'highli', 'fish', 'ensur', 'encourag', 'auburn', 'throughout', 'respect', 'resort', 'plung', 'lineup', 'disc', 'cuba', 'bob', 'blog', 'beyond', 'bat', 'amazon', 'util', 'sri', 'regist', 'piec', 'onto', 'msft', 'locat', 'labour', 'intens', 'harri', 'disclos', 'assembl', 'apart', 'altern', 'ali', 'type', 'swiss', 'suspens', 'revis', 'equiti', 'distanc', 'born', 'boom', 'aol', 'aggress', 'sexual', 'laden', 'justin', 'hacker', 'door', 'batter', 'vijay', 'usual', 'tap', 'sit', 'resist', 'pirat', 'owen', 'jewish', 'impress', 'h', 'edward', 'cingular', 'assassin', 'trigger', 'reviv', 'caught', 'bangladesh', 'advis', 'virus', 'roddick', 'revers', 'postseason', 'infrastructur', 'fellow', 'consol', 'typhoon', 'shipment', 'pacer', 'notebook', 'intent', 'transfer', 'pose', 'ny', 'marsh', 'howev', 'foundat', 'erupt', 'bobbi', 'adam', 'zimbabw', 'usa', 'trail', 'toshiba', 'stretch', 'sidelin', 'robot', 'postpon', 'orlando', 'miner', 'lee', 'heard', 'explain', 'tree', 'samsung', 'laboratori', 'jim', 'jack', 'extrem', 'citizen', 'shrine', 'martha', 'iranian', 'escap', 'embattl', 'cloth', 'bolster', 'uefa', 'toy', 'southeast', 'reflect', 'raven', 'hike', 'fanni', 'convinc', 'circuit', 'brazilian', 'bottom', 'au', 'anyon', 'tent', 'supplier', 'steadi', 'retain', 'movement', 'morgan', 'mae', 'implement', 'heavyweight', 'fought', 'fair', 'drew', 'deleg', 'conclud', 'communist', 'anyth', 'succeed', 'matt', 'headquart', 'guerrilla', 'greenspan', 'examin', 'ex', 'dual', 'chemic', 'torn', 'squad', 'solar', 'rememb', 'peacekeep', 'orlean', 'oppos', 'monetari', 'ice', 'gordon', 'enjoy', 'compon', 'cassini', 'casino', 'arthriti', 'art', 'va', 'sunni', 'respond', 'pipelin', 'ocean', 'hewitt', 'friendli', 'barcelona', 'argentina', 'anniversari', 'kidnapp', 'ken', 'jean', 'forum', 'band', 'activist', 'tabl', 'scene', 'preseason', 'liber', 'favorit', 'child', 'brokerag', 'bargain', 'bare', 'strateg', 'statu', 'pop', 'pois', 'infect', 'enforc', 'andr', 'vs', 'subsidiari', 'subject', 'slump', 'shoulder', 'sbc', 'ride', 'multi', 'everyon', 'detect', 'beckham', 'argu', 'antonio', 'affair', 'trend', 'syria', 'starter', 'politician', 'chechen', 'cbc', 'spirit', 'regard', 'librari', 'label', 'ii', 'crown', 'complaint', 'turkish', 'stronghold', 'sometim', 'reliev', 'philip', 'obtain', 'netherland', 'miller', 'landmark', 'guy', 'freez', 'bbc', 'astronom', 'arena', 'andrew', 'wage', 'steroid', 'rome', 'relationship', 'qualiti', 'packer', 'mayor', 'lewi', 'kobe', 'gymnast', 'bridg', 'wrap', 'tear', 'incid', 'constitut', 'automak', 'tank', 'steeler', 'rooney', 'jackson', 'father', 'easier', 'nigerian', 'maria', 'malaysia', 'lowest', 'knew', 'greatest', 'function', 'deliveri', 'bitter', 'tourist', 'sustain', 'snap', 'mistak', 'guid', 'colt', 'ca', 'buyer', 'aliv', 'wenger', 'tripl', 'silicon', 'outsourc', 'osama', 'margin', 'especi', 'collabor', 'asid', 'vaccin', 'recruit', 'northeast', 'lanka', 'invas', 'coup', 'compens', 'carter', 'cannot', 'brain', 'abduct', 'unpreced', 'stephen', 'spi', 'sight', 'rig', 'fierc', 'weaker', 'sponsor', 'repeat', 'opinion', 'narrow', 'mosqu', 'indi', 'highlight', 'excit', 'complex', 'wear', 'vega', 'successor', 'shopper', 'normal', 'jaguar', 'hassan', 'er', 'dump', 'discoveri', 'broad', 'batteri', 'appli', 'shape', 'schill', 'qaida', 'pioneer', 'laptop', 'famou', 'curb', 'comeback', 'sentiment', 'presenc', 'piston', 'petroleum', 'lleyton', 'larger', 'flow', 'convoy', 'bigger', 'bankrupt', 'spammer', 'remark', 'navi', 'mclennan', 'ferguson', 'contact', 'consult', 'caribbean', 'ben', 'arabia', 'anthoni', 'ankl', 'acknowledg', 'pursu', 'photograph', 'phoenix', 'object', 'mayb', 'maryland', 'liquid', 'fashion', 'entri', 'editor', 'blockbust', 'vietnam', 'tumbl', 'sweden', 'shanghai', 'sack', 'regulatori', 'nobel', 'multipl', 'hors', 'espn', 'kenneth', 'felt', 'fed', 'dark', 'citigroup', 'church', 'brief', 'adob', 'understand', 'showdown', 'optim', 'nortel', 'jeann', 'golden', 'frustrat', 'feet', 'clean', 'austria', 'actual', 'telescop', 'restrict', 'rape', 'overhaul', 'notic', 'k', 'jordan', 'ip', 'homeland', 'evacu', 'creation', 'contend', 'charlott', 'capsul', 'bull', 'balanc', 'accid', 'acceler', 'zarqawi', 'trap', 'margaret', 'manmohan', 'estat', 'disk', 'dick', 'crush', 'clinic', 'briton', 'amsterdam', 'adrian', 'wing', 'volum', 'valley', 'sear', 'roundup', 'pole', 'playstat', 'oversea', 'lab', 'innov', 'cowboy', 'congo', 'charley', 'carl', 'bet', 'unemploy', 'string', 'seal', 'reader', 'palm', 'orang', 'happi', 'gap', 'flag', 'exclus', 'coca', 'blew', 'allen', 'aboard', 'split', 'quarterfin', 'illinoi', 'hamm', 'gb', 'flagship', 'equal', 'brawl', 'beslan', 'will', 'vodafon', 'tropic', 'stern', 'snow', 'shown', 'quick', 'hang', 'gasolin', 'desper', 'curt', 'birdi', 'unexpect', 'tribun', 'religi', 'prais', 'mother', 'mostli', 'modern', 'midfield', 'influenc', 'inaugur', 'henri', 'headlin', 'exhibit', 'contractor', 'aviat', 'sluggish', 'silver', 'restaur', 'lebanon', 'divid', 'chile', 'unexpectedli', 'true', 'spitzer', 'plenti', 'palac']\n"
     ]
    }
   ],
   "source": [
    "# this will create a vocabulary of the top 2500 words and then convert the text to a sequence of numbers\n",
    "vocab_size = 2500 # how many of the most frequent words to keep\n",
    "sequence_length = 30 # how many words we use to represent a description\n",
    "vectorizer = TextVectorization(max_tokens=vocab_size, output_sequence_length=sequence_length)\n",
    "# fit the vectorizer on the training data (find the most common words and assign values to them)\n",
    "vectorizer.adapt(stemmed_train_data_list)\n",
    "# show the selected words\n",
    "print(vectorizer.get_vocabulary())"
   ]
  },
  {
   "cell_type": "code",
   "execution_count": 16,
   "metadata": {},
   "outputs": [
    {
     "name": "stdout",
     "output_type": "stream",
     "text": [
      "(96000, 30)\n"
     ]
    }
   ],
   "source": [
    "# vectorize the training data (replace words by their associated values)\n",
    "train_data_vectorized = vectorizer(stemmed_train_data_list)\n",
    "# vectorize the validation data\n",
    "validation_data_vectorized = vectorizer(stemmed_validation_data_list)\n",
    "# vectorize the test data\n",
    "test_data_vectorized = vectorizer(stemmed_test_data_list)\n",
    "# this shape shows that we have our 96000 training examples, each as a vector of 30 integers\n",
    "print(train_data_vectorized.shape)"
   ]
  },
  {
   "cell_type": "code",
   "execution_count": 17,
   "metadata": {},
   "outputs": [
    {
     "name": "stdout",
     "output_type": "stream",
     "text": [
      "tf.Tensor(\n",
      "[ 289  980  353 1196  939   32 2234  899  177  564   31  289  647 1222\n",
      "   56  715  241    0    0    0    0    0    0    0    0    0    0    0\n",
      "    0    0], shape=(30,), dtype=int64)\n"
     ]
    }
   ],
   "source": [
    "# see how a vectorized news description looks like\n",
    "print(train_data_vectorized[1])"
   ]
  },
  {
   "cell_type": "markdown",
   "metadata": {},
   "source": [
    "We then build a RNN.\n",
    "\n",
    "We use an *Embedding layer* to convert the integer sequences to embeddings. You can read about how this works [here](https://www.tensorflow.org/api_docs/python/tf/keras/layers/Embedding).\n",
    "\n",
    "The Bidirectional layer takes the input and passes it forwards and backwards through the LSTM (Long-Short Term Memory) layer. It allows the network to learn the context of the sentence in both directions, so information from both previous and following words is taken into account.\n"
   ]
  },
  {
   "cell_type": "code",
   "execution_count": 18,
   "metadata": {},
   "outputs": [
    {
     "name": "stdout",
     "output_type": "stream",
     "text": [
      "Model: \"sequential\"\n",
      "_________________________________________________________________\n",
      " Layer (type)                Output Shape              Param #   \n",
      "=================================================================\n",
      " embedding (Embedding)       (None, None, 32)          80000     \n",
      "                                                                 \n",
      " bidirectional (Bidirection  (None, 64)                16640     \n",
      " al)                                                             \n",
      "                                                                 \n",
      " dense (Dense)               (None, 4)                 260       \n",
      "                                                                 \n",
      "=================================================================\n",
      "Total params: 96900 (378.52 KB)\n",
      "Trainable params: 96900 (378.52 KB)\n",
      "Non-trainable params: 0 (0.00 Byte)\n",
      "_________________________________________________________________\n",
      "Epoch 1/5\n",
      "750/750 [==============================] - 12s 13ms/step - loss: 0.4569 - accuracy: 0.8381 - val_loss: 0.3326 - val_accuracy: 0.8864\n",
      "Epoch 2/5\n",
      "750/750 [==============================] - 10s 13ms/step - loss: 0.3155 - accuracy: 0.8926 - val_loss: 0.3281 - val_accuracy: 0.8881\n",
      "Epoch 3/5\n",
      "750/750 [==============================] - 9s 12ms/step - loss: 0.2979 - accuracy: 0.8970 - val_loss: 0.3250 - val_accuracy: 0.8881\n",
      "Epoch 4/5\n",
      "750/750 [==============================] - 8s 11ms/step - loss: 0.2867 - accuracy: 0.9006 - val_loss: 0.3207 - val_accuracy: 0.8886\n",
      "Epoch 5/5\n",
      "750/750 [==============================] - 8s 11ms/step - loss: 0.2760 - accuracy: 0.9041 - val_loss: 0.3179 - val_accuracy: 0.8903\n",
      "238/238 [==============================] - 1s 3ms/step\n",
      "Test Set Accuracy:  0.8860526315789473\n"
     ]
    },
    {
     "data": {
      "text/plain": [
       "<Axes: >"
      ]
     },
     "execution_count": 18,
     "metadata": {},
     "output_type": "execute_result"
    },
    {
     "data": {
      "image/png": "[encoded data removed]",
      "text/plain": [
       "<Figure size 720x504 with 2 Axes>"
      ]
     },
     "metadata": {
      "needs_background": "light"
     },
     "output_type": "display_data"
    }
   ],
   "source": [
    "model = Sequential()\n",
    "model.add(Embedding(vocab_size, 32))\n",
    "model.add(Bidirectional(LSTM(32)))\n",
    "model.add(Dense(4, activation=\"softmax\"))\n",
    "\n",
    "model.summary()\n",
    "\n",
    "# compile the model\n",
    "model.compile(loss=\"categorical_crossentropy\", optimizer=\"adam\", metrics=[\"accuracy\"])\n",
    "\n",
    "# fit the model\n",
    "model.fit(\n",
    "    train_data_vectorized,\n",
    "    train_labels,\n",
    "    epochs=5,\n",
    "    batch_size=128,\n",
    "    verbose=1,\n",
    "    validation_data=(validation_data_vectorized, validation_labels),\n",
    ")\n",
    "\n",
    "# predict the labels on the test data\n",
    "rnn_predictions = model.predict(test_data_vectorized)\n",
    "# since predictions are one-hot encoded, we convert them to an int label taking the output with higher value\n",
    "rnn_predictions = np.argmax(rnn_predictions, axis=1)\n",
    "\n",
    "# calculate the accuracy score\n",
    "accuracy = accuracy_score(test_labels_list, rnn_predictions)\n",
    "print(\"Test Set Accuracy: \", accuracy)\n",
    "# create a confusion matrix\n",
    "cm = confusion_matrix(test_labels_list, rnn_predictions)\n",
    "# plot the confusion matrix\n",
    "plt.figure(figsize=(10, 7))\n",
    "sns.heatmap(cm, annot=True, fmt=\"d\", xticklabels=label_names, yticklabels=label_names)"
   ]
  },
  {
   "cell_type": "code",
   "execution_count": 19,
   "metadata": {},
   "outputs": [
    {
     "name": "stdout",
     "output_type": "stream",
     "text": [
      "Test set accuracy for RNN model: 88.61%\n"
     ]
    }
   ],
   "source": [
    "print(f\"Test set accuracy for RNN model: {accuracy_score(test_labels_list, rnn_predictions)*100:.2f}%\")"
   ]
  },
  {
   "cell_type": "markdown",
   "metadata": {},
   "source": [
    "# TODO 3: Creating Example Predictions\n",
    "Test the model. Create some fresh sample news (copy them from a news site like BBC) then see if the model can predict the correct labels. Use one example per class.\n",
    "\n",
    "Also, find one example that gets misclassified and briefly discuss here why it might happen:"
   ]
  },
  {
   "cell_type": "code",
   "execution_count": 20,
   "metadata": {},
   "outputs": [
    {
     "name": "stdout",
     "output_type": "stream",
     "text": [
      "1/1 [==============================] - 0s 18ms/step\n",
      "NN classifier prediction:  World News\n",
      "NN classifier prediction:  Sports News\n",
      "NN classifier prediction:  Business News\n",
      "NN classifier prediction:  Sci/Tech News\n",
      "NN classifier prediction:  Business News\n"
     ]
    }
   ],
   "source": [
    "sample_news = list()\n",
    "# TODO 3: create some fresh sample news (copy them from a news site like BBC) then see if the model can predict the correct labels\n",
    "# Use one example per class\n",
    "sample_news.append(\"Ukraine and Russia have exchanged hundreds of prisoners of war, in what is being described by officials in Kyiv as the biggest swap of the war.\")\n",
    "sample_news.append(\"Rory McIlroy says he would be open to play in a tournament backed by LIV Golf if the controversial tour became more like cricket's Indian Premier League.\")\n",
    "sample_news.append(\"Bosses of the biggest firms will earn more than the typical worker by Thursday lunchtime, research claims.\")\n",
    "sample_news.append(\"The company which became well known for its idea of shooting people hundreds of miles an hour through a vacuum has shut down.\")\n",
    "# Also, find one example that gets misclassified and discuss why it might happen in the markdown above.\n",
    "sample_news.append(\"SpaceX has been accused of unlawfully firing eight workers who were critical of its multi-billionaire chief executive Elon Musk.\")\n",
    "\n",
    "# preprocess the sample news\n",
    "sample_news = [preprocess_text(i) for i in sample_news]\n",
    "sample_news = remove_stopwords(sample_news)\n",
    "\n",
    "# If you added stemming/lemmatization, do it on sample_news as well\n",
    "stemmed_sample_news = [perform_stemming(text) for text in sample_news]\n",
    "\n",
    "# vectorize the sample news\n",
    "sample_news_vectorized = vectorizer(stemmed_sample_news)\n",
    "\n",
    "# predict using the neural network\n",
    "prediction = model.predict(sample_news_vectorized)\n",
    "prediction = np.argmax(prediction, axis=1)\n",
    "for i in prediction:\n",
    "     print(\"NN classifier prediction: \", label_names[prediction[i]], \"News\")\n"
   ]
  },
  {
   "cell_type": "markdown",
   "metadata": {},
   "source": [
    "Sport's News - https://www.bbc.com/sport/golf/67870607\n",
    "\n",
    "Tech News- https://www.bbc.com/news/technology-67801235\n",
    "\n",
    "Misclassified News- https://www.bbc.com/news/business-67878940\n",
    "\n",
    "World News- https://www.bbc.com/news/world-europe-67872417\n",
    "\n",
    "Business News- https://www.bbc.com/news/business-67877235\n",
    "\n",
    "\n",
    "The missclassified news is misclassified because it is both considered Business news and comes from the tech sphere. The misrepresentation as Sci/Tech news may occur if the emphasis is exclusively on SpaceX's technological innovations or advancements in space exploration, ignoring the article's core theme of labor disputes and legal concerns. While there is mention of SpaceX's engagement in space-related activities, the main narrative is around internal business concerns, therefore \"Business\" is a more appropriate category."
   ]
  },
  {
   "cell_type": "markdown",
   "metadata": {},
   "source": [
    "## TODO 4: Create a new model\n",
    "Try to improve the RNN model, of implement a CNN (with 1D convolution layers), that beats the baseline RNN"
   ]
  },
  {
   "cell_type": "code",
   "execution_count": 21,
   "metadata": {},
   "outputs": [
    {
     "name": "stdout",
     "output_type": "stream",
     "text": [
      "Model: \"sequential_1\"\n",
      "_________________________________________________________________\n",
      " Layer (type)                Output Shape              Param #   \n",
      "=================================================================\n",
      " embedding_1 (Embedding)     (None, 30, 128)           320000    \n",
      "                                                                 \n",
      " conv1d (Conv1D)             (None, 26, 128)           82048     \n",
      "                                                                 \n",
      " max_pooling1d (MaxPooling1  (None, 5, 128)            0         \n",
      " D)                                                              \n",
      "                                                                 \n",
      " conv1d_1 (Conv1D)           (None, 1, 128)            82048     \n",
      "                                                                 \n",
      " global_max_pooling1d (Glob  (None, 128)               0         \n",
      " alMaxPooling1D)                                                 \n",
      "                                                                 \n",
      " dropout (Dropout)           (None, 128)               0         \n",
      "                                                                 \n",
      " dense_1 (Dense)             (None, 64)                8256      \n",
      "                                                                 \n",
      " dense_2 (Dense)             (None, 4)                 260       \n",
      "                                                                 \n",
      "=================================================================\n",
      "Total params: 492612 (1.88 MB)\n",
      "Trainable params: 492612 (1.88 MB)\n",
      "Non-trainable params: 0 (0.00 Byte)\n",
      "_________________________________________________________________\n",
      "Epoch 1/5\n",
      "750/750 [==============================] - 12s 15ms/step - loss: 0.4739 - accuracy: 0.8259 - val_loss: 0.3363 - val_accuracy: 0.8839\n",
      "Epoch 2/5\n",
      "750/750 [==============================] - 11s 15ms/step - loss: 0.3166 - accuracy: 0.8942 - val_loss: 0.3238 - val_accuracy: 0.8880\n",
      "Epoch 3/5\n",
      "750/750 [==============================] - 11s 15ms/step - loss: 0.2688 - accuracy: 0.9093 - val_loss: 0.3253 - val_accuracy: 0.8884\n",
      "Epoch 4/5\n",
      "750/750 [==============================] - 11s 14ms/step - loss: 0.2116 - accuracy: 0.9273 - val_loss: 0.3618 - val_accuracy: 0.8843\n",
      "Epoch 5/5\n",
      "750/750 [==============================] - 11s 14ms/step - loss: 0.1553 - accuracy: 0.9443 - val_loss: 0.4057 - val_accuracy: 0.8827\n",
      "Test set accuracy for CNN model: 88.22%\n"
     ]
    }
   ],
   "source": [
    "# TODO 4: YOUR CODE HERE\n",
    "from tensorflow.keras.layers import Conv1D, MaxPooling1D, GlobalMaxPooling1D, Dropout\n",
    "\n",
    "# Define the CNN model\n",
    "cnn_model = Sequential()\n",
    "\n",
    "# Add an Embedding layer\n",
    "cnn_model.add(Embedding(vocab_size, 128, input_length=sequence_length))\n",
    "\n",
    "# Add Convolutional layers\n",
    "cnn_model.add(Conv1D(128, 5, activation='relu'))\n",
    "cnn_model.add(MaxPooling1D(5))\n",
    "cnn_model.add(Conv1D(128, 5, activation='relu'))\n",
    "cnn_model.add(GlobalMaxPooling1D())\n",
    "\n",
    "# Add Dropout for regularization\n",
    "cnn_model.add(Dropout(0.5))\n",
    "\n",
    "# Add a Dense layer for classification\n",
    "cnn_model.add(Dense(64, activation='relu'))\n",
    "cnn_model.add(Dense(4, activation='softmax'))  # 4 classes \n",
    "\n",
    "# Compile the model\n",
    "cnn_model.compile(loss='categorical_crossentropy',\n",
    "                  optimizer='adam',\n",
    "                  metrics=['accuracy'])\n",
    "\n",
    "# Display model summary\n",
    "cnn_model.summary()\n",
    "\n",
    "# Train the CNN model\n",
    "cnn_model.fit(train_data_vectorized, train_labels,\n",
    "              epochs=5,\n",
    "              batch_size=128,\n",
    "              validation_data=(validation_data_vectorized, validation_labels))\n",
    "\n",
    "# Evaluate the CNN model on the test set\n",
    "cnn_scores = cnn_model.evaluate(test_data_vectorized, test_labels, verbose=0)\n",
    "print(f\"Test set accuracy for CNN model: {cnn_scores[1]*100:.2f}%\")\n"
   ]
  },
  {
   "cell_type": "code",
   "execution_count": 22,
   "metadata": {},
   "outputs": [
    {
     "name": "stdout",
     "output_type": "stream",
     "text": [
      "1/1 [==============================] - 0s 66ms/step\n",
      "CNN classifier prediction:  World News\n",
      "CNN classifier prediction:  Sports News\n",
      "CNN classifier prediction:  Business News\n",
      "CNN classifier prediction:  Sci/Tech News\n",
      "CNN classifier prediction:  Business News\n"
     ]
    }
   ],
   "source": [
    "# Test the Model\n",
    "prediction2 = cnn_model.predict(sample_news_vectorized)\n",
    "prediction2 = np.argmax(prediction2, axis=1)\n",
    "for i in prediction2:\n",
    "     print(\"CNN classifier prediction: \", label_names[prediction2[i]], \"News\")"
   ]
  },
  {
   "cell_type": "code",
   "execution_count": 23,
   "metadata": {},
   "outputs": [
    {
     "name": "stdout",
     "output_type": "stream",
     "text": [
      "Epoch 1/5\n",
      "750/750 [==============================] - 48s 61ms/step - loss: 0.4503 - accuracy: 0.8360 - val_loss: 0.3460 - val_accuracy: 0.8831\n",
      "Epoch 2/5\n",
      "750/750 [==============================] - 46s 61ms/step - loss: 0.3348 - accuracy: 0.8897 - val_loss: 0.3362 - val_accuracy: 0.8853\n",
      "Epoch 3/5\n",
      "750/750 [==============================] - 47s 63ms/step - loss: 0.3173 - accuracy: 0.8944 - val_loss: 0.3274 - val_accuracy: 0.8862\n",
      "Epoch 4/5\n",
      "750/750 [==============================] - 50s 67ms/step - loss: 0.2980 - accuracy: 0.8994 - val_loss: 0.3236 - val_accuracy: 0.8867\n",
      "Epoch 5/5\n",
      "750/750 [==============================] - 50s 67ms/step - loss: 0.2815 - accuracy: 0.9038 - val_loss: 0.3297 - val_accuracy: 0.8844\n",
      "Test set accuracy for Improved RNN model: 88.22%\n"
     ]
    }
   ],
   "source": [
    "from tensorflow.keras.layers import LSTM, Dropout\n",
    "\n",
    "# Define an Improved RNN model\n",
    "improved_rnn_model = Sequential()\n",
    "\n",
    "# Add an Embedding layer\n",
    "improved_rnn_model.add(Embedding(vocab_size, 128, input_length=sequence_length))\n",
    "\n",
    "# Add LSTM layers with increased complexity\n",
    "improved_rnn_model.add(LSTM(128, return_sequences=True))\n",
    "improved_rnn_model.add(Dropout(0.3))\n",
    "improved_rnn_model.add(LSTM(64))\n",
    "improved_rnn_model.add(Dropout(0.3))\n",
    "\n",
    "# Add Dense layers for classification\n",
    "improved_rnn_model.add(Dense(64, activation='relu'))\n",
    "improved_rnn_model.add(Dense(4, activation='softmax'))  # 4 classes \n",
    "\n",
    "# Compile the improved RNN model\n",
    "improved_rnn_model.compile(loss='categorical_crossentropy',\n",
    "                           optimizer='adam',\n",
    "                           metrics=['accuracy'])\n",
    "\n",
    "# Train the improved RNN model\n",
    "improved_rnn_model.fit(train_data_vectorized, train_labels,\n",
    "                       epochs=5,\n",
    "                       batch_size=128,\n",
    "                       validation_data=(validation_data_vectorized, validation_labels))\n",
    "\n",
    "# Evaluate the improved RNN model on the test set\n",
    "improved_rnn_scores = improved_rnn_model.evaluate(test_data_vectorized, test_labels, verbose=0)\n",
    "print(f\"Test set accuracy for Improved RNN model: {improved_rnn_scores[1]*100:.2f}%\")\n"
   ]
  },
  {
   "cell_type": "code",
   "execution_count": 24,
   "metadata": {},
   "outputs": [
    {
     "name": "stdout",
     "output_type": "stream",
     "text": [
      "1/1 [==============================] - 1s 564ms/step\n",
      "Improved RNN classifier prediction:  World News\n",
      "Improved RNN classifier prediction:  Sports News\n",
      "Improved RNN classifier prediction:  Business News\n",
      "Improved RNN classifier prediction:  Sci/Tech News\n",
      "Improved RNN classifier prediction:  World News\n"
     ]
    }
   ],
   "source": [
    "# Predict using model\n",
    "prediction1 = improved_rnn_model.predict(sample_news_vectorized)\n",
    "prediction1 = np.argmax(prediction1, axis=1)\n",
    "for i in prediction1:\n",
    "     print(\"Improved RNN classifier prediction: \", label_names[prediction1[i]], \"News\")"
   ]
  },
  {
   "cell_type": "code",
   "execution_count": 25,
   "metadata": {},
   "outputs": [
    {
     "name": "stdout",
     "output_type": "stream",
     "text": [
      "Epoch 1/5\n",
      "750/750 [==============================] - 13s 16ms/step - loss: 0.4693 - accuracy: 0.8296 - val_loss: 0.3336 - val_accuracy: 0.8856\n",
      "Epoch 2/5\n",
      "750/750 [==============================] - 12s 16ms/step - loss: 0.3139 - accuracy: 0.8945 - val_loss: 0.3229 - val_accuracy: 0.8874\n",
      "Epoch 3/5\n",
      "750/750 [==============================] - 12s 16ms/step - loss: 0.2635 - accuracy: 0.9105 - val_loss: 0.3214 - val_accuracy: 0.8901\n",
      "Epoch 4/5\n",
      "750/750 [==============================] - 12s 16ms/step - loss: 0.2048 - accuracy: 0.9291 - val_loss: 0.3557 - val_accuracy: 0.8840\n",
      "Epoch 5/5\n",
      "750/750 [==============================] - 12s 16ms/step - loss: 0.1494 - accuracy: 0.9472 - val_loss: 0.4006 - val_accuracy: 0.8825\n",
      "Test set accuracy for Improved CNN model: 87.39%\n"
     ]
    }
   ],
   "source": [
    "# Define an Improved CNN model\n",
    "improved_cnn_model = Sequential()\n",
    "\n",
    "# Add an Embedding layer\n",
    "improved_cnn_model.add(Embedding(vocab_size, 128, input_length=sequence_length))\n",
    "\n",
    "# Add Convolutional layers with increased complexity\n",
    "improved_cnn_model.add(Conv1D(128, 5, activation='relu'))\n",
    "improved_cnn_model.add(MaxPooling1D(5))\n",
    "improved_cnn_model.add(Conv1D(128, 5, activation='relu'))\n",
    "improved_cnn_model.add(GlobalMaxPooling1D())\n",
    "improved_cnn_model.add(Dropout(0.5))\n",
    "\n",
    "# Add Dense layers for classification\n",
    "improved_cnn_model.add(Dense(64, activation='relu'))\n",
    "improved_cnn_model.add(Dense(4, activation='softmax'))  # 4 classes \n",
    "\n",
    "# Compile the improved CNN model\n",
    "improved_cnn_model.compile(loss='categorical_crossentropy',\n",
    "                           optimizer='adam',\n",
    "                           metrics=['accuracy'])\n",
    "\n",
    "# Train the improved CNN model\n",
    "improved_cnn_model.fit(train_data_vectorized, train_labels,\n",
    "                       epochs=5,\n",
    "                       batch_size=128,\n",
    "                       validation_data=(validation_data_vectorized, validation_labels))\n",
    "\n",
    "# Evaluate the improved CNN model on the test set\n",
    "improved_cnn_scores = improved_cnn_model.evaluate(test_data_vectorized, test_labels, verbose=0)\n",
    "print(f\"Test set accuracy for Improved CNN model: {improved_cnn_scores[1]*100:.2f}%\")\n"
   ]
  },
  {
   "cell_type": "code",
   "execution_count": 26,
   "metadata": {},
   "outputs": [
    {
     "name": "stdout",
     "output_type": "stream",
     "text": [
      "1/1 [==============================] - 0s 64ms/step\n",
      "Improved CNN classifier prediction:  World News\n",
      "Improved CNN classifier prediction:  Sports News\n",
      "Improved CNN classifier prediction:  Business News\n",
      "Improved CNN classifier prediction:  Sci/Tech News\n",
      "Improved CNN classifier prediction:  Business News\n"
     ]
    }
   ],
   "source": [
    "# Predict using model\n",
    "prediction3 = improved_cnn_model.predict(sample_news_vectorized)\n",
    "prediction3 = np.argmax(prediction3, axis=1)\n",
    "for i in prediction3:\n",
    "     print(\"Improved CNN classifier prediction: \", label_names[prediction3[i]], \"News\")"
   ]
  },
  {
   "cell_type": "code",
   "execution_count": 27,
   "metadata": {},
   "outputs": [
    {
     "name": "stdout",
     "output_type": "stream",
     "text": [
      "Model: \"sequential_4\"\n",
      "_________________________________________________________________\n",
      " Layer (type)                Output Shape              Param #   \n",
      "=================================================================\n",
      " embedding_4 (Embedding)     (None, 30, 128)           320000    \n",
      "                                                                 \n",
      " conv1d_4 (Conv1D)           (None, 26, 64)            41024     \n",
      "                                                                 \n",
      " max_pooling1d_2 (MaxPoolin  (None, 6, 64)             0         \n",
      " g1D)                                                            \n",
      "                                                                 \n",
      " conv1d_5 (Conv1D)           (None, 2, 128)            41088     \n",
      "                                                                 \n",
      " global_max_pooling1d_2 (Gl  (None, 128)               0         \n",
      " obalMaxPooling1D)                                               \n",
      "                                                                 \n",
      " dense_7 (Dense)             (None, 64)                8256      \n",
      "                                                                 \n",
      " dropout_4 (Dropout)         (None, 64)                0         \n",
      "                                                                 \n",
      " dense_8 (Dense)             (None, 4)                 260       \n",
      "                                                                 \n",
      "=================================================================\n",
      "Total params: 410628 (1.57 MB)\n",
      "Trainable params: 410628 (1.57 MB)\n",
      "Non-trainable params: 0 (0.00 Byte)\n",
      "_________________________________________________________________\n",
      "Epoch 1/5\n",
      "750/750 [==============================] - 9s 11ms/step - loss: 0.4896 - accuracy: 0.8267 - val_loss: 0.3383 - val_accuracy: 0.8845\n",
      "Epoch 2/5\n",
      "750/750 [==============================] - 8s 11ms/step - loss: 0.3325 - accuracy: 0.8924 - val_loss: 0.3254 - val_accuracy: 0.8862\n",
      "Epoch 3/5\n",
      "750/750 [==============================] - 9s 11ms/step - loss: 0.2826 - accuracy: 0.9075 - val_loss: 0.3334 - val_accuracy: 0.8862\n",
      "Epoch 4/5\n",
      "750/750 [==============================] - 9s 12ms/step - loss: 0.2240 - accuracy: 0.9263 - val_loss: 0.3626 - val_accuracy: 0.8820\n",
      "Epoch 5/5\n",
      "750/750 [==============================] - 9s 12ms/step - loss: 0.1660 - accuracy: 0.9455 - val_loss: 0.4009 - val_accuracy: 0.8788\n",
      "WARNING:tensorflow:5 out of the last 243 calls to <function Model.make_predict_function.<locals>.predict_function at 0x000001CCAD752820> triggered tf.function retracing. Tracing is expensive and the excessive number of tracings could be due to (1) creating @tf.function repeatedly in a loop, (2) passing tensors with different shapes, (3) passing Python objects instead of tensors. For (1), please define your @tf.function outside of the loop. For (2), @tf.function has reduce_retracing=True option that can avoid unnecessary retracing. For (3), please refer to https://www.tensorflow.org/guide/function#controlling_retracing and https://www.tensorflow.org/api_docs/python/tf/function for  more details.\n",
      "238/238 [==============================] - 1s 2ms/step\n",
      "Test Set Accuracy (CNN Model): 87.84%\n"
     ]
    }
   ],
   "source": [
    "from tensorflow.keras.models import Sequential\n",
    "from tensorflow.keras.layers import Embedding, Conv1D, MaxPooling1D, GlobalMaxPooling1D, Dense, Dropout\n",
    "\n",
    "# Create a new model using CNN architecture\n",
    "cnn_model = Sequential()\n",
    "cnn_model.add(Embedding(vocab_size, 128, input_length=sequence_length))\n",
    "cnn_model.add(Conv1D(64, 5, activation='relu'))\n",
    "cnn_model.add(MaxPooling1D(pool_size=4))\n",
    "cnn_model.add(Conv1D(128, 5, activation='relu'))\n",
    "cnn_model.add(GlobalMaxPooling1D())\n",
    "cnn_model.add(Dense(64, activation='relu'))\n",
    "cnn_model.add(Dropout(0.5))\n",
    "cnn_model.add(Dense(4, activation='softmax'))\n",
    "\n",
    "# Display the model summary\n",
    "cnn_model.summary()\n",
    "\n",
    "# Compile the model\n",
    "cnn_model.compile(loss='categorical_crossentropy', optimizer='adam', metrics=['accuracy'])\n",
    "\n",
    "# Fit the model\n",
    "cnn_model.fit(\n",
    "    train_data_vectorized,\n",
    "    train_labels,\n",
    "    epochs=5,\n",
    "    batch_size=128,\n",
    "    verbose=1,\n",
    "    validation_data=(validation_data_vectorized, validation_labels)\n",
    ")\n",
    "\n",
    "# Predict the labels on the test data\n",
    "cnn_predictions = cnn_model.predict(test_data_vectorized)\n",
    "cnn_predictions = np.argmax(cnn_predictions, axis=1)\n",
    "\n",
    "# Calculate the accuracy score\n",
    "accuracy_cnn = accuracy_score(test_labels_list, cnn_predictions)\n",
    "print(\"Test Set Accuracy (CNN Model): {:.2f}%\".format(accuracy_cnn * 100))\n"
   ]
  },
  {
   "cell_type": "code",
   "execution_count": 28,
   "metadata": {},
   "outputs": [
    {
     "name": "stdout",
     "output_type": "stream",
     "text": [
      "Epoch 1/5\n",
      "750/750 [==============================] - 13s 16ms/step - loss: 0.5326 - accuracy: 0.8031 - val_loss: 0.3424 - val_accuracy: 0.8827\n",
      "Epoch 2/5\n",
      "750/750 [==============================] - 12s 16ms/step - loss: 0.3350 - accuracy: 0.8915 - val_loss: 0.3250 - val_accuracy: 0.8885\n",
      "Epoch 3/5\n",
      "750/750 [==============================] - 12s 16ms/step - loss: 0.3014 - accuracy: 0.9028 - val_loss: 0.3245 - val_accuracy: 0.8870\n",
      "Epoch 4/5\n",
      "750/750 [==============================] - 12s 16ms/step - loss: 0.2589 - accuracy: 0.9146 - val_loss: 0.3296 - val_accuracy: 0.8859\n",
      "Epoch 5/5\n",
      "750/750 [==============================] - 12s 16ms/step - loss: 0.2060 - accuracy: 0.9329 - val_loss: 0.3525 - val_accuracy: 0.8853\n",
      "238/238 [==============================] - 1s 2ms/step\n",
      "Test Set Accuracy (Modified CNN Model): 88.17%\n"
     ]
    }
   ],
   "source": [
    "from tensorflow.keras.optimizers import Adam\n",
    "from tensorflow.keras.layers import Dropout, SpatialDropout1D\n",
    "\n",
    "# Create a modified CNN model\n",
    "cnn_model = Sequential()\n",
    "cnn_model.add(Embedding(vocab_size, 128, input_length=sequence_length))\n",
    "cnn_model.add(Conv1D(128, 5, activation='relu'))\n",
    "cnn_model.add(MaxPooling1D(pool_size=4))\n",
    "cnn_model.add(Conv1D(64, 5, activation='relu'))\n",
    "cnn_model.add(GlobalMaxPooling1D())\n",
    "cnn_model.add(Dense(64, activation='relu'))\n",
    "cnn_model.add(Dropout(0.5))  # Adding dropout for regularization\n",
    "cnn_model.add(Dense(4, activation='softmax'))\n",
    "\n",
    "# Compile the model with a lower learning rate\n",
    "optimizer = Adam(learning_rate=0.0005)  # Adjust the learning rate\n",
    "cnn_model.compile(loss='categorical_crossentropy', optimizer=optimizer, metrics=['accuracy'])\n",
    "\n",
    "# Fit the modified model\n",
    "cnn_model.fit(\n",
    "    train_data_vectorized,\n",
    "    train_labels,\n",
    "    epochs=5,\n",
    "    batch_size=128,\n",
    "    verbose=1,\n",
    "    validation_data=(validation_data_vectorized, validation_labels)\n",
    ")\n",
    "\n",
    "# Evaluate the modified CNN model\n",
    "cnn_predictions = cnn_model.predict(test_data_vectorized)\n",
    "cnn_predictions = np.argmax(cnn_predictions, axis=1)\n",
    "accuracy_cnn_modified = accuracy_score(test_labels_list, cnn_predictions)\n",
    "print(\"Test Set Accuracy (Modified CNN Model): {:.2f}%\".format(accuracy_cnn_modified * 100))\n"
   ]
  },
  {
   "cell_type": "code",
   "execution_count": 29,
   "metadata": {},
   "outputs": [
    {
     "name": "stdout",
     "output_type": "stream",
     "text": [
      "Epoch 1/10\n",
      "750/750 [==============================] - 13s 17ms/step - loss: 0.5473 - accuracy: 0.7949 - val_loss: 0.3429 - val_accuracy: 0.8845\n",
      "Epoch 2/10\n",
      "750/750 [==============================] - 12s 16ms/step - loss: 0.3351 - accuracy: 0.8911 - val_loss: 0.3296 - val_accuracy: 0.8871\n",
      "Epoch 3/10\n",
      "750/750 [==============================] - 12s 16ms/step - loss: 0.2986 - accuracy: 0.9025 - val_loss: 0.3236 - val_accuracy: 0.8901\n",
      "Epoch 4/10\n",
      "750/750 [==============================] - 12s 16ms/step - loss: 0.2565 - accuracy: 0.9162 - val_loss: 0.3295 - val_accuracy: 0.8876\n",
      "Epoch 5/10\n",
      "750/750 [==============================] - 12s 16ms/step - loss: 0.2012 - accuracy: 0.9351 - val_loss: 0.3619 - val_accuracy: 0.8827\n",
      "Epoch 6/10\n",
      "750/750 [==============================] - 12s 16ms/step - loss: 0.1410 - accuracy: 0.9555 - val_loss: 0.4149 - val_accuracy: 0.8817\n",
      "Epoch 7/10\n",
      "750/750 [==============================] - 12s 16ms/step - loss: 0.0961 - accuracy: 0.9693 - val_loss: 0.4695 - val_accuracy: 0.8763\n",
      "Epoch 8/10\n",
      "750/750 [==============================] - 12s 16ms/step - loss: 0.0648 - accuracy: 0.9805 - val_loss: 0.5530 - val_accuracy: 0.8745\n",
      "Epoch 9/10\n",
      "750/750 [==============================] - 12s 16ms/step - loss: 0.0497 - accuracy: 0.9863 - val_loss: 0.6571 - val_accuracy: 0.8706\n",
      "Epoch 10/10\n",
      "750/750 [==============================] - 12s 16ms/step - loss: 0.0422 - accuracy: 0.9886 - val_loss: 0.6852 - val_accuracy: 0.8717\n",
      "238/238 [==============================] - 1s 2ms/step\n",
      "Test Set Accuracy (Modified CNN Model): 87.05%\n"
     ]
    }
   ],
   "source": [
    "# Remodified the Model by increasing the Ephocs from 5 to 10\n",
    "\n",
    "from tensorflow.keras.optimizers import Adam\n",
    "from tensorflow.keras.layers import Dropout, SpatialDropout1D\n",
    "\n",
    "# Create a modified CNN model\n",
    "cnn_model = Sequential()\n",
    "cnn_model.add(Embedding(vocab_size, 128, input_length=sequence_length))\n",
    "cnn_model.add(Conv1D(128, 5, activation='relu'))\n",
    "cnn_model.add(MaxPooling1D(pool_size=4))\n",
    "cnn_model.add(Conv1D(64, 5, activation='relu'))\n",
    "cnn_model.add(GlobalMaxPooling1D())\n",
    "cnn_model.add(Dense(64, activation='relu'))\n",
    "cnn_model.add(Dropout(0.5))  # Adding dropout for regularization\n",
    "cnn_model.add(Dense(4, activation='softmax'))\n",
    "\n",
    "# Compile the model with a lower learning rate\n",
    "optimizer = Adam(learning_rate=0.0005)  # Adjust the learning rate\n",
    "cnn_model.compile(loss='categorical_crossentropy', optimizer=optimizer, metrics=['accuracy'])\n",
    "\n",
    "# Fit the modified model\n",
    "cnn_model.fit(\n",
    "    train_data_vectorized,\n",
    "    train_labels,\n",
    "    epochs=10,\n",
    "    batch_size=128,\n",
    "    verbose=1,\n",
    "    validation_data=(validation_data_vectorized, validation_labels)\n",
    ")\n",
    "\n",
    "# Evaluate the modified CNN model\n",
    "cnn_predictions = cnn_model.predict(test_data_vectorized)\n",
    "cnn_predictions = np.argmax(cnn_predictions, axis=1)\n",
    "accuracy_cnn_modified = accuracy_score(test_labels_list, cnn_predictions)\n",
    "print(\"Test Set Accuracy (Modified CNN Model): {:.2f}%\".format(accuracy_cnn_modified * 100))\n"
   ]
  },
  {
   "cell_type": "markdown",
   "metadata": {},
   "source": [
    "Following extensive work to enhance the baseline model, **the baseline model achieved the highest accuracy of 88.61% and accurately forecasted the sample news.**"
   ]
  },
  {
   "cell_type": "markdown",
   "metadata": {},
   "source": [
    "## TODO  5\n",
    "\n",
    "**TODO 1** \n",
    "\n",
    "Removing URLs and Links from text. This step is important since URLs often do not provide useful information for text categorization and can introduce noise into the dataset.\n",
    "\n",
    "Removing News Agency Names. The method also removes individual news agency names such as \"Reuters\" and \"AFP\". This step is intended to reduce bias or overfitting caused by the presence of agency names in the text. It is critical when training the model on data when the agency name may be an influential component in categorization but is irrelevant in other circumstances.\n",
    "\n",
    "**TODO 2**\n",
    "\n",
    "Before deciding between lemminization and stemming, I decided to experiment with both approaches and assess their impact on the performance of my classification model. Both stemming and lemmatization aim to reduce words to their base or root form but use different approaches and have distinct characteristics, so I decided to experiment with both approaches and assess their impact on the performance of my classification model. Following that, I obtained the following result from the comparison:\n",
    "\n",
    "Stemmed Validation Accuracy: 0.8960416666666666667\n",
    "\n",
    "Accuracy of Lemmatized Validation: 0.8703333333333333\n",
    "\n",
    "Stemming outperformed lemmatization in terms of performance, thus I chose stemming.\n",
    "\n",
    "**TODO 3**\n",
    "\n",
    "It is critical to evaluate the model to ensure its dependability, generalizability, and efficacy in making accurate predictions on fresh, unseen data. We will be able to ensure the reliability of our model for real-world case scenarios if we use current news to evaluate it.\n",
    "\n",
    "**TODO 4**\n",
    "\n",
    "In practice, it is critical to experiment with various designs, closely monitor performance metrics (accuracy, etc), and confirm the model's performance on distinct test sets. This iterative method aids in understanding how architectural changes affect the model's behavior and performance on unknown data, allowing the best model architecture for the particular task to be chosen.\n"
   ]
  },
  {
   "cell_type": "markdown",
   "metadata": {},
   "source": [
    "## Sources:\n",
    "\n",
    "- Implement a recurrent neural network : https://peterroelants.github.io/posts/rnn-implementation-part01/\n",
    "\n",
    "- Peforming Encoding: https://www.geeksforgeeks.org/feature-encoding-techniques-machine-learning/\n",
    "\n",
    "- Using Regular Expression: https://www.geeksforgeeks.org/regular-expression-python-examples/\n",
    "\n",
    "- Performing Stemming: https://www.geeksforgeeks.org/introduction-to-stemming/\n",
    "\n",
    "- Source for Sample News: https://www.bbc.com/\n",
    "\n",
    "- Implementing Text Vectorization: https://www.tensorflow.org/api_docs/python/tf/keras/layers/TextVectorization\n",
    "\n",
    "- Implementing CNN: https://www.geeksforgeeks.org/introduction-convolution-neural-network/?ref=header_search"
   ]
  },
  {
   "cell_type": "code",
   "execution_count": null,
   "metadata": {},
   "outputs": [],
   "source": []
  }
 ],
 "metadata": {
  "kernelspec": {
   "display_name": "Python 3",
   "language": "python",
   "name": "python3"
  },
  "language_info": {
   "codemirror_mode": {
    "name": "ipython",
    "version": 3
   },
   "file_extension": ".py",
   "mimetype": "text/x-python",
   "name": "python",
   "nbconvert_exporter": "python",
   "pygments_lexer": "ipython3",
   "version": "3.8.8"
  },
  "vscode": {
   "interpreter": {
    "hash": "977335c72b126e3991b9de8b6fc74c7a8bf9097191ab51ecd2769bb8eacdf950"
   }
  }
 },
 "nbformat": 4,
 "nbformat_minor": 2
}
